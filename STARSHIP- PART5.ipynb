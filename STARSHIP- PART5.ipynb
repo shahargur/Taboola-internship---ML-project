{
 "cells": [
  {
   "cell_type": "markdown",
   "id": "3b6f3abb",
   "metadata": {},
   "source": [
    "# STARSHIP - PART 5"
   ]
  },
  {
   "cell_type": "code",
   "execution_count": 1,
   "id": "919be359",
   "metadata": {},
   "outputs": [],
   "source": [
    "import numpy as np\n",
    "import pandas as pd\n",
    "\n",
    "y_train=pd.read_csv('ready data part 4/y_train_data.csv')\n",
    "X_train=pd.read_csv('ready data part 4/X_train_data.csv')\n",
    "y_test=pd.read_csv('ready data part 4/y_test_data.csv')\n",
    "X_test=pd.read_csv('ready data part 4/X_test_data.csv')"
   ]
  },
  {
   "cell_type": "markdown",
   "id": "794ef18b",
   "metadata": {},
   "source": [
    "## Prepare 2 test set: a. All users with 0 and 1 clicks. B. all users with 2 and more clicks"
   ]
  },
  {
   "cell_type": "code",
   "execution_count": 24,
   "id": "dfb824bd",
   "metadata": {},
   "outputs": [],
   "source": [
    "test_set = pd.concat([X_test, y_test], axis=1)\n",
    "test_set_a = test_set.loc[test_set['user_clicks']<2] #0-1 clicks\n",
    "test_set_b = test_set.loc[test_set['user_clicks'] >= 2] \n"
   ]
  },
  {
   "cell_type": "code",
   "execution_count": 25,
   "id": "a76459d6",
   "metadata": {},
   "outputs": [],
   "source": [
    "# change the indexes 0,1,2...\n",
    "test_set_a = test_set_a.set_index(pd.Index(np.arange(len(test_set_a))))"
   ]
  },
  {
   "cell_type": "code",
   "execution_count": 4,
   "id": "0640d9dd",
   "metadata": {},
   "outputs": [],
   "source": [
    "def evaluate(test_set):\n",
    "    y_pred = cat_model.predict(test_set)\n",
    "    print(\"Accuracy:\",metrics.accuracy_score(original_y, y_pred))\n",
    "    print(\"Recall:\",metrics.recall_score(original_y, y_pred))\n",
    "    print(\"F-Measure:\",metrics.f1_score(original_y, y_pred))\n",
    "    print(\"Precision:\",metrics.precision_score(original_y, y_pred))"
   ]
  },
  {
   "cell_type": "code",
   "execution_count": 27,
   "id": "7cfe9483",
   "metadata": {},
   "outputs": [],
   "source": [
    "original_y = test_set_a['is_click']\n",
    "del test_set_a['is_click']"
   ]
  },
  {
   "cell_type": "code",
   "execution_count": 6,
   "id": "8feac201",
   "metadata": {},
   "outputs": [
    {
     "data": {
      "text/plain": [
       "<catboost.core.CatBoostClassifier at 0x254a30bee50>"
      ]
     },
     "execution_count": 6,
     "metadata": {},
     "output_type": "execute_result"
    }
   ],
   "source": [
    "from sklearn import metrics\n",
    "from catboost import CatBoostClassifier\n",
    "\n",
    "cat_model = CatBoostClassifier()\n",
    "cat_model.fit(X_train  , y_train.values.ravel(),verbose=False)\n"
   ]
  },
  {
   "cell_type": "code",
   "execution_count": 7,
   "id": "a36d6cb2",
   "metadata": {},
   "outputs": [
    {
     "name": "stdout",
     "output_type": "stream",
     "text": [
      "Accuracy: 0.7889633638506526\n",
      "Recall: 0.7600862725196651\n",
      "F-Measure: 0.7362749202130724\n",
      "Precision: 0.7139101356232638\n"
     ]
    }
   ],
   "source": [
    "evaluate(test_set_a)"
   ]
  },
  {
   "cell_type": "markdown",
   "id": "7d52fe24",
   "metadata": {},
   "source": [
    "## For each of the users from data set a find it’s closest neighbour in data set b"
   ]
  },
  {
   "cell_type": "code",
   "execution_count": 8,
   "id": "f75ff8d4",
   "metadata": {},
   "outputs": [],
   "source": [
    "from sklearn.metrics import pairwise_distances\n",
    "from sklearn.metrics import pairwise_distances_argmin\n",
    "import time\n",
    "import pickle\n",
    "\n",
    "def dist_dict(above,metric):\n",
    "    test_set = pd.concat([X_test, y_test], axis=1)\n",
    "    #test_set['user_id']= test_set['user_id'].astype(\"category\").cat.codes\n",
    "\n",
    "    test_set_a = test_set.loc[test_set['user_clicks']<2] #0-1 clicks\n",
    "    test_set_b = test_set.loc[test_set['user_clicks'] >= above] #more then above\n",
    "    \n",
    "    # change the indexes 0,1,2...\n",
    "    test_set_a = test_set_a.set_index(pd.Index(np.arange(len(test_set_a))))\n",
    "    test_set_b = test_set_b.set_index(pd.Index(np.arange(len(test_set_b))))\n",
    "        \n",
    "    closest_dict = {}\n",
    "    index = 1000\n",
    "    indexes_a = test_set_a.index\n",
    "    indexes_b = test_set_b.index\n",
    "\n",
    "    \n",
    "    for i in range(int(len(test_set_a)/index)+1):\n",
    "        inserted=test_set_a.iloc[i*index:(i+1)*index]\n",
    "        close_record_index = pairwise_distances_argmin(inserted,test_set_b,metric=metric)\n",
    "        for j in range(len(close_record_index)):\n",
    "            closest_dict[i*index+j] = indexes_b[close_record_index[j]]\n",
    "        \n",
    "    \n",
    "    dict_full_name = metric + 'from' + str(above) +'_dict.pkl'\n",
    "    with open(dict_full_name, 'wb') as f:\n",
    "        pickle.dump(closest_dict, f)\n",
    "\n",
    "    closest_dict"
   ]
  },
  {
   "cell_type": "code",
   "execution_count": 9,
   "id": "acee7669",
   "metadata": {},
   "outputs": [],
   "source": [
    "dist_dict(2,'cosine')\n",
    "dist_dict(3,'cosine')\n",
    "dist_dict(4,'cosine')\n",
    "dist_dict(5,'cosine')"
   ]
  },
  {
   "cell_type": "code",
   "execution_count": 10,
   "id": "7760f96e",
   "metadata": {},
   "outputs": [],
   "source": [
    "dist_dict(2,'euclidean')\n",
    "dist_dict(3,'euclidean')\n",
    "dist_dict(4,'euclidean')\n",
    "dist_dict(5,'euclidean')"
   ]
  },
  {
   "cell_type": "code",
   "execution_count": null,
   "id": "85ffb630",
   "metadata": {},
   "outputs": [],
   "source": [
    "dist_dict(2,'hamming')\n",
    "dist_dict(3,'hamming')\n",
    "dist_dict(4,'hamming')"
   ]
  },
  {
   "cell_type": "code",
   "execution_count": null,
   "id": "eedaf79a",
   "metadata": {},
   "outputs": [],
   "source": [
    "dist_dict(2,'manhattan')\n",
    "dist_dict(3,'manhattan')\n",
    "dist_dict(4,'manhattan')"
   ]
  },
  {
   "cell_type": "markdown",
   "id": "5a815fb1",
   "metadata": {},
   "source": [
    "## use the closes neighbour to improve results"
   ]
  },
  {
   "cell_type": "code",
   "execution_count": 18,
   "id": "d6eab34d",
   "metadata": {},
   "outputs": [],
   "source": [
    "history_without_recs = ['user_clicks',  '61108514445dc5a3d61c81143f57fc213d1feeaf861f90594866145966fdc4f9_c_ctr',\n",
    "       'de4d57b401ad9cbe913238688e5ab1f7ddcff1bd37538e9d529223dfe9d79576_c_ctr',\n",
    "       '48509a07538677f82f9e1ade5c0d724fe1fd837343cd6bb0431b80a2520193f3_c_ctr',\n",
    "       'a7c68f40778fdf5ab08ca67bcf62cc67427723c689fa7e75903ffe984169726b_c_ctr',\n",
    "       '812df4136a77ca7a4ff72ab9e4a4f2deabeeb21817f6e25718582fd412d8e8e8_c_ctr',\n",
    "       'f88b356a9face082abc26d4e75b829259cf770cc3fa2401bc152917d5aa66e7d_c_ctr',\n",
    "       '6ad4d921f45ab9a3de6840e4ec06f625763eec88c8ed104bfd22a576c34ff039_c_ctr',\n",
    "       'b5610de1f6ffecc890aa0a487b94a60ebc5f3190a6b8df7a773b87059826ab47_c_ctr',\n",
    "       'bd9124bd238e8ea1d7472beb1f8bed2096e7d2ccaef939e348f80f95b01ba5bc_c_ctr',\n",
    "       '68bf0109c6f8a87bfa96d1ecd9503326ba35cf4a6086988a1d2c8a20fbef00d1_c_ctr',\n",
    "       '3be1d422a46085e17f4a19d3ed707c866927a6d354a562c45a78f1f03d7c4118_c_ctr',\n",
    "       '11d40417959631d3d2420e8cd8709893c11cd7a4db737af63e8d56cfa7866f85_c_ctr',\n",
    "       '1180412af43d78604a73f14d5a7ef83d3d3a74251ce8fb7b232043a511fbf161_c_ctr',\n",
    "       '4263e28fc51808c7cc9a9540585fb69080542158e6dcc9910d05f8458f59ab49_c_ctr',\n",
    "       'c513f6ef979bc9ca96e48c44a4e8fe756f4790570949e452e37df21e73567ef2_c_ctr',\n",
    "       '0c350ae55158adeee57e63c575f9ff1975aeca281cf1e052a5cc3c18ada7c0ad_c_ctr',\n",
    "       'd7efa2f7a9e1b512fd646d3e89e22e529f2b1e852a2864d654d9a867ca4a4624_c_ctr',\n",
    "       '8e4b5bcfdfdc849677ee6d7a4b5f5d6c83eaf6619abd87bca4b3106b3722678c_c_ctr',\n",
    "       '0209442e115ad7bc79fd281d91423a86b619e3c711fe574b7cc198d2e3c461c4_c_ctr',\n",
    "       '28cec6db11ab7d5a0892c361b953500bc4b30cb96906b95fc346f6e0c3cd0e55_c_ctr',\n",
    "       '8a91bb34721c6489a602f83428cff4adf368331fb8e7435dd8dc993cf482bfd5_c_ctr',\n",
    "       'a17498f58d835f26f28be6e80da34f8e4d80ab429125db50197a0ba7fe619f49_c_ctr',\n",
    "       '1cb542228c76558789d114d3cb273a75850cca54ec3ee9a41100f2dc56ee561e_c_ctr',\n",
    "       'c0738849f57726a1e60cb17d93157b5b6ccf6f3bb7fdf6bbed57d84c9b23b31d_c_ctr',\n",
    "       'a031eda273ac18861d11324af880859527405b4d475a9ac589bc4c8bfd598893_c_ctr',\n",
    "       '0bcc639f6c41a8b9ea537cd08d9e8f8d6908c4dd79eeb431126b2781ba57771e_c_ctr',\n",
    "       '7bc70a705d85bfa59f9784b64151fb3daf051eb1744830baa8d22bbcb32956f3_c_ctr',\n",
    "       '33445260df1bc49114eeeda3d7e30ea3b4ac318f5e6bb7ad339e6a5a03be9336_c_ctr',\n",
    "       '4b19c051cd2a88afdf08fff3eb4bfa99adf8d603da2a1c45e0576c1739eaea15_c_ctr',\n",
    "       'a941e049e9b1a5f8f3e2c1d39ee03082c184e89224e519c0bef6d8694743159a_c_ctr',\n",
    "       'a0da63f7deb716b7c1ee936a1b68b25dcba9773f0fb4de5f063dc52a053945b1_c_ctr',\n",
    "       '790fad4744a9da8d301e23c83b386f1baabd229611dbe5265df62a97b5357393_c_ctr',\n",
    "       '33297ca1e5b9d63741369135c744705be15edc2d9beb1629c1a45b1f61641a59_c_ctr',\n",
    "       'ba5285161ba6eed0085fb13784ce5c92f70ebc268b94fd66aa1d68a32884204d_c_ctr',\n",
    "       '516d189fdc3b2d3c12953d7e007b7151ed1538e23112ef5c1b6b2dbf8af7319e_c_ctr',\n",
    "       '259aa8ef98a8b91de574cd904138ef643240c23080cf24da4793a6f10a43fa9d_c_ctr',\n",
    "       '0a976f55a9c56ea0081016a41c4ba048732ffbfed98de816184703b7f93c1499_c_ctr',\n",
    "       '0720c198df96f189a141cec90f859b927a91275264c2cbe16eb3966a58f727f9_c_ctr',\n",
    "       'cb69f81bd35ddfa40a1d1608edd4b41d644dcf27a99fe3f9e2c094ba50ea54b1_c_ctr',\n",
    "       '4a8a398e6be840d4f07f10e17b1750ded029c71311c5232bfa36d354d611dba9_c_ctr',\n",
    "       '1a1d1484d3cbc721070469e555f6a0cc89c03d60181e1f13694014e9249d19b6_c_ctr',\n",
    "       'f2bd5a01dfff120bb2e4be9b5a74970d991e5f6aca2cddf6680a54c98c7c17dc_c_ctr',\n",
    "       'ca9942acaf5f9ae0a98c58ee0a1830f5c7047c465003fc24ac46df377eab8544_c_ctr',\n",
    "       '2960f16ec1aa689ae008674ff33d51ef5d9b674bd90d160c34b888e5139e2009_c_ctr',\n",
    "       '2096303a8868b9fa3a2ed62ce9fa0445269109f0f1750312ed419a3f74f8ac78_c_ctr',\n",
    "       '19fba0e995b9794fc2c26217bf3b725c2f0d9eeda16719fe75e3ba23ca73bfc4_c_ctr',\n",
    "       'd90d402744080c11741e5e10c35250c6f0a352d54fc2ec7718c208feddd7a2a2_c_ctr',\n",
    "       '6fda2b8252b6d5ea9d19934d61b30d7a4a2922108fc1ecb83416001760139a39_c_ctr',\n",
    "       'b537c6ef04866119578ef5f82075a5240805f9f54733b46639227110fefb413f_c_ctr',\n",
    "       'b34564f1c4cd1d98dc26aaa4f888e3020656033add4dd0620b26e820493bf5c2_c_ctr',\n",
    "       '61a78304b3c41ee12b310b29a17756d6d98ec5500f25df5c8d300156f0f23973_c_ctr',\n",
    "       '16627e06ee5f755933fb2687ad25c3d81cb59cd8f1de7d96258509b1539cb2a8_c_ctr',\n",
    "       'e2ddc2cd2e8ae62ed9e842999a8f2b74579198b3a293750ec07e36aa10491de2_c_ctr',\n",
    "       'fe9bbd400bb6cb314531e3462507661401959afc69aae96bc6aec2c213b83bc1_c_ctr',\n",
    "       'dd73a2f7c7982c61006be12e1bbb3e8c9ea6b6e8baf7cc5e307514015fc2fd23_c_ctr',\n",
    "       'eab762a03fd979a04cc4706e6536d382bc89d2d1356afcd054a16b2235ecd471_c_ctr',\n",
    "       '62484e22a6a5ade1ba25cb1b7c55c4b8861de24caddab73c9409742734008b26_c_ctr',\n",
    "       '309d267f086d5fe5433d5bcc11cf83c14ffb5518dca95fc59b17363bb421e28e_c_ctr',\n",
    "       '80f189984e5ca70287d13342f6daa0db45cba3c131c4e46dc81360f3a4c4f690_c_ctr',\n",
    "       'd34a569ab7aaa54dacd715ae64953455d86b768846cd0085ef4e9e7471489b7b_c_ctr',\n",
    "       '8517b64a7dfada982abdf62810e1c248d645151dc3d2352075c5cad87b3a2221_c_ctr',\n",
    "       'c1f026582fe6e8cb620d0c85a72fe421ddded756662a8ec00ed4c297ad10676b_c_ctr',\n",
    "       'c0674314c7945c60ae576e6b0b5469e0ba8b471652ee28610602be3c6aaeb7b4_c_ctr',\n",
    "       '4ea140588150773ce3aace786aeef7f4049ce100fa649c94fbbddb960f1da942_c_ctr',\n",
    "       'a172ddf41dd327dcac2c4211c298221f360f2d7488f9f1225070ece19b262991_c_ctr',\n",
    "       'dd18a0f5cc4ab574f29f5eef2ca858e612473ac78cd6e260ea97ec4b3f2e1803_c_ctr',\n",
    "       '124962dc269749b652c6e23e063617da6c15a4061ba980fc8f0b1ba77292415c_c_ctr',\n",
    "       '2792b084bca1f0b04d2bc17e7f40cbab6661df68409cba8efe5be1498aa67d35_c_ctr',\n",
    "       '114049bf85580c9d5a699a09bb8971425d0c9f641b6bfd326758333672ec73a5_c_ctr',\n",
    "       '508592b6d926af8803391e1b90f21f9497c765349bb4e6e7bca62d81b5c1022d_c_ctr',\n",
    "       '-6597379137822394620_i_clicks', '-3537769870962055354_i_clicks',\n",
    "       '7641699375018129861_i_clicks', '2782413262714958813_i_clicks',\n",
    "       '1071255553578813935_i_clicks', '1790838827304051171_i_clicks',\n",
    "       '-277516354583730580_i_clicks', '-1844325170782087031_i_clicks',\n",
    "       '6519237256383913780_i_clicks', '-6590137372813932048_i_clicks',\n",
    "       '2050764513447150597_i_clicks', '6401048192163613996_i_clicks',\n",
    "       '-5665231208787600560_i_clicks', '6052825694508831155_i_clicks',\n",
    "       '-4658420179322495763_i_clicks', '-8304589174089261041_i_clicks',\n",
    "       '2981167624921350096_i_clicks', '4147553327480165223_i_clicks',\n",
    "       '-6613091900670437351_i_clicks', '5513023590059056719_i_clicks',\n",
    "       '-2376436660574205512_i_clicks', '-4661562476615102361_i_clicks',\n",
    "       '8006569233415963933_i_clicks', '-8846315789198768218_i_clicks',\n",
    "       '-3473024805566572926_i_clicks', '-7191473408733797623_i_clicks',\n",
    "       '7933936839897102492_i_clicks', '-5565074785503409293_i_clicks',\n",
    "       '-6686171651625460591_i_clicks', '-8923508522781337425_i_clicks',\n",
    "       '3978293437662790475_i_clicks', '-8349331379575229064_i_clicks',\n",
    "       '5840779184213337588_i_clicks', '8173322118079640705_i_clicks',\n",
    "       '-8549946995770995994_i_clicks', '-6755671448084645333_i_clicks',\n",
    "       '-5598468937246360216_i_clicks', '821420889748784509_i_clicks',\n",
    "       '1732518774282955304_i_clicks', '1286672594045415480_i_clicks',\n",
    "       '-6004628949937626045_i_clicks', '1167157754418956910_i_clicks',\n",
    "       '6285130451169023451_i_clicks', '1676633042548565843_i_clicks',\n",
    "       '-1530069705287674516_i_clicks', '4015076361409988181_i_clicks',\n",
    "       '-3435898480642252744_i_clicks', '-3596267220299612976_i_clicks',\n",
    "       '-2940233538738748639_i_clicks', '-8245990465161984931_i_clicks',\n",
    "       '-7439800813611300949_i_clicks', '7745802355884387631_i_clicks',\n",
    "       '7151011376039939031_i_clicks', '-8244270229711223302_i_clicks',\n",
    "       '81463566110175119_i_clicks', '7918195863372175678_i_clicks',\n",
    "       '2507367679844346558_i_clicks', '7276627987286151880_i_clicks',\n",
    "       '7496376258236356987_i_clicks', '-917443497655913392_i_clicks',\n",
    "       '3703889155402940831_i_clicks', '3063910208987911824_i_clicks',\n",
    "       '-4066981206407581872_i_clicks', '-7820953387091456096_i_clicks',\n",
    "       '1019259011237425577_i_clicks', '6156748206734924010_i_clicks',\n",
    "       '-867926204580748790_i_clicks', '6509554154811723184_i_clicks',\n",
    "       '-2542437490169503076_i_clicks', '-4761594579425574936_i_clicks',\n",
    "       '3601059902051216600_i_clicks', '7052693107312904282_i_clicks',\n",
    "       '5246812338767375112_i_clicks', '-5621163822509059276_i_clicks',\n",
    "       '4776874720734967109_i_clicks', '5590002166962482704_i_clicks',\n",
    "       '8332108480529323818_i_clicks', '6388581769545739149_i_clicks',\n",
    "       '-3371259035168698143_i_clicks', '5268119577047608705_i_clicks',\n",
    "       '8977920698911593049_i_clicks', '8907799905198405812_i_clicks',\n",
    "       '-4143464982107595149_i_clicks', '5789857031212100003_i_clicks',\n",
    "       '-3938288290604949738_i_clicks', '8956548214050563956_i_clicks',\n",
    "       '390462906908777733_i_clicks', '-127938762727969741_i_clicks',\n",
    "       '-489809203262662140_i_clicks', '6060434067729885303_i_clicks',\n",
    "       '-1422827765891273142_i_clicks', '-8955241989434981258_i_clicks',\n",
    "       '964126797132705424_i_clicks', '5976994942744482604_i_clicks',\n",
    "       '4923304358247540154_i_clicks', '-8029437237847644338_i_clicks',\n",
    "       '1258821722976480117_i_clicks', '-8504951679593001779_i_clicks',\n",
    "       '-5559330017833606475_i_clicks', '446851095707701277_i_clicks',\n",
    "       '-2565032983111075329_i_clicks', '-3595323641892027824_i_clicks',\n",
    "       '6541911725721430501_i_clicks', '-1715342302517748642_i_clicks',\n",
    "       '2150205176954594318_i_clicks', '-6583257043694969040_i_clicks',\n",
    "       '2277158520422351642_i_clicks', '-8977322542722062014_i_clicks',\n",
    "       '3984870164980915490_i_clicks', '-7210248827359496438_i_clicks',\n",
    "       '-7750113494543845989_i_clicks', '-5722753190249984610_i_clicks',\n",
    "       '-4306681745995048802_i_clicks', '-9200345713046499318_i_clicks',\n",
    "       '-3268549519706779451_i_clicks', '2470141795027120384_i_clicks',\n",
    "       '2836056776580108007_i_clicks', '-4125475805878775176_i_clicks',\n",
    "       '-4949128444307448220_i_clicks', '6712512344446708848_i_clicks',\n",
    "       '-601946480702343428_i_clicks', '-8655025433408827997_i_clicks',\n",
    "       '2220437081297852238_i_clicks', '-4083244903296105330_i_clicks',\n",
    "       '6540618639587998193_i_clicks', '8579433685879267475_i_clicks',\n",
    "       '-1058255037834804661_i_clicks', '-3193585481998003344_i_clicks',\n",
    "       '-1395540213096405298_i_clicks', '7417192111309521036_i_clicks',\n",
    "       '6984351696314919458_i_clicks', '3579901023400054608_i_clicks',\n",
    "       '8490200088372093931_i_clicks', '9055377813200334935_i_clicks',\n",
    "       '4436913629864704227_i_clicks', '6492059624586356549_i_clicks',\n",
    "       '7288698517702336477_i_clicks', '-2002044985545801018_i_clicks',\n",
    "       '4405515281669991437_i_clicks', '-750036118207051322_i_clicks',\n",
    "       '7521853921239608992_i_clicks', '7557519904060801410_i_clicks',\n",
    "       '8951753579110056782_i_clicks', '2839355173630047798_i_clicks',\n",
    "       '7017123631563780887_i_clicks', '936630936040113192_i_clicks',\n",
    "       '6915057301283748335_i_clicks', '-7956584263689547569_i_clicks',\n",
    "       '-4798498070973557588_i_clicks', '-4537147676852755308_i_clicks',\n",
    "       '7164253633056214_i_clicks', '5531386583286579610_i_clicks',\n",
    "       '6709311094223257746_i_clicks', '3747692144586145998_i_clicks',\n",
    "       '1597082942030427249_i_clicks', '27834901668906764_i_clicks',\n",
    "       '-8742516677870340136_i_clicks', '101315062624410900_i_clicks',\n",
    "       '-5827419750254943422_i_clicks', '-6987840845420875926_i_clicks',\n",
    "       '4779478477400736725_i_clicks', '-4484468456254590098_i_clicks',\n",
    "       '-62418374600764546_i_clicks', '8611949271977874056_i_clicks',\n",
    "       '-4865872832970702614_i_clicks', '6923996694200037766_i_clicks',\n",
    "       '-4352693544295965547_i_clicks', '-8837312109174350409_i_clicks',\n",
    "       '6710410937413896675_i_clicks', '3779093080491101819_i_clicks',\n",
    "       '-1546233820172493230_i_clicks', '-6922482799228753992_i_clicks',\n",
    "       '-3165286775812642602_i_clicks', '8677353483444746886_i_clicks',\n",
    "       '-8749875857714603232_i_clicks', '-3659437482324795455_i_clicks',\n",
    "       '7731610252078196101_i_clicks', '-7630439413240589360_i_clicks',\n",
    "       '2149269691410270673_i_clicks', '-4228920969204288365_i_clicks' ]"
   ]
  },
  {
   "cell_type": "code",
   "execution_count": 19,
   "id": "aab026a6",
   "metadata": {},
   "outputs": [],
   "source": [
    "def evaluate_with_replacement(ls , ts1 , ts2):\n",
    "    test_set_a_replace1 = ts2.reindex(ls)\n",
    "    print('evaluation after changing the all row:')\n",
    "    evaluate(test_set_a_replace1)\n",
    "    print()\n",
    "    \n",
    "    ts1.loc[:, history_without_recs] = ts2.reindex(ls).loc[:, history_without_recs].values\n",
    "    print('evaluation after replacing the history:')\n",
    "    evaluate(ts1)\n",
    "    print()\n",
    "\n",
    "    ts1['user_recs_v2'] =  ts2.reindex(ls)['user_recs_v2'].values\n",
    "    print('evaluation after the replacing history and the recs:')\n",
    "    evaluate(ts1)\n",
    "    print()"
   ]
  },
  {
   "cell_type": "markdown",
   "id": "0f75cea7",
   "metadata": {},
   "source": [
    "## cosine "
   ]
  },
  {
   "cell_type": "code",
   "execution_count": 12,
   "id": "6f3f86cd",
   "metadata": {
    "scrolled": true
   },
   "outputs": [
    {
     "name": "stdout",
     "output_type": "stream",
     "text": [
      "evaluation after changing the all row:\n",
      "Accuracy: 0.4388808472320822\n",
      "Recall: 0.7652642095914742\n",
      "F-Measure: 0.5138924387646432\n",
      "Precision: 0.3868282242031681\n",
      "\n",
      "evaluation after replacing the history:\n",
      "Accuracy: 0.7059980515628985\n",
      "Recall: 0.8375570921086019\n",
      "F-Measure: 0.6883033523721396\n",
      "Precision: 0.5841984458394403\n",
      "\n",
      "evaluation after the replacing history and the recs:\n",
      "Accuracy: 0.744198482431797\n",
      "Recall: 0.7689434788124841\n",
      "F-Measure: 0.6997088545030142\n",
      "Precision: 0.6419119739986364\n",
      "\n"
     ]
    }
   ],
   "source": [
    "#cosine - with neighbors with 2 or more clicks\n",
    "cosine_similarity = pd.read_pickle(\"cosinefrom2_dict.pkl\") \n",
    "cosine_similarity = list(cosine_similarity.values())\n",
    "evaluate_with_replacement(cosine_similarity,test_set_a, test_set_b)"
   ]
  },
  {
   "cell_type": "code",
   "execution_count": 28,
   "id": "331e0803",
   "metadata": {},
   "outputs": [
    {
     "name": "stdout",
     "output_type": "stream",
     "text": [
      "evaluation after changing the all row:\n",
      "Accuracy: 0.4511553863222174\n",
      "Recall: 0.7194240040598833\n",
      "F-Measure: 0.5039828465409782\n",
      "Precision: 0.3878392011353727\n",
      "\n"
     ]
    },
    {
     "name": "stderr",
     "output_type": "stream",
     "text": [
      "C:\\admin\\anaconda\\lib\\site-packages\\pandas\\core\\indexing.py:1835: SettingWithCopyWarning: \n",
      "A value is trying to be set on a copy of a slice from a DataFrame.\n",
      "Try using .loc[row_indexer,col_indexer] = value instead\n",
      "\n",
      "See the caveats in the documentation: https://pandas.pydata.org/pandas-docs/stable/user_guide/indexing.html#returning-a-view-versus-a-copy\n",
      "  self._setitem_single_column(loc, value[:, i].tolist(), pi)\n"
     ]
    },
    {
     "name": "stdout",
     "output_type": "stream",
     "text": [
      "evaluation after replacing the history:\n",
      "Accuracy: 0.7416569091149363\n",
      "Recall: 0.8097564070032987\n",
      "F-Measure: 0.7084238055927464\n",
      "Precision: 0.629631913188236\n",
      "\n"
     ]
    },
    {
     "name": "stderr",
     "output_type": "stream",
     "text": [
      "C:\\Users\\E56A~1\\AppData\\Local\\Temp/ipykernel_1468/2815741389.py:12: SettingWithCopyWarning: \n",
      "A value is trying to be set on a copy of a slice from a DataFrame.\n",
      "Try using .loc[row_indexer,col_indexer] = value instead\n",
      "\n",
      "See the caveats in the documentation: https://pandas.pydata.org/pandas-docs/stable/user_guide/indexing.html#returning-a-view-versus-a-copy\n",
      "  ts1['user_recs_v2'] =  ts2.reindex(ls)['user_recs_v2'].values\n"
     ]
    },
    {
     "name": "stdout",
     "output_type": "stream",
     "text": [
      "evaluation after the replacing history and the recs:\n",
      "Accuracy: 0.7585443884089506\n",
      "Recall: 0.7311675336209084\n",
      "F-Measure: 0.7012491206722816\n",
      "Precision: 0.6736829031291781\n",
      "\n"
     ]
    }
   ],
   "source": [
    "# test set a before changing it\n",
    "test_set_a = test_set.loc[test_set['user_clicks']<2] #0-1 clicks\n",
    "del test_set_a ['is_click']\n",
    "\n",
    "#cosine - with neighbors with 3 or more clicks\n",
    "cosine_similarity = pd.read_pickle(\"cosinefrom3_dict.pkl\") \n",
    "cosine_similarity = list(cosine_similarity.values())\n",
    "evaluate_with_replacement(cosine_similarity,test_set_a, test_set_b)"
   ]
  },
  {
   "cell_type": "code",
   "execution_count": 29,
   "id": "44dd800c",
   "metadata": {},
   "outputs": [
    {
     "name": "stdout",
     "output_type": "stream",
     "text": [
      "evaluation after changing the all row:\n",
      "Accuracy: 0.4527780594918697\n",
      "Recall: 0.7158240294341538\n",
      "F-Measure: 0.5034689689019766\n",
      "Precision: 0.3882819489367559\n",
      "\n"
     ]
    },
    {
     "name": "stderr",
     "output_type": "stream",
     "text": [
      "C:\\admin\\anaconda\\lib\\site-packages\\pandas\\core\\indexing.py:1835: SettingWithCopyWarning: \n",
      "A value is trying to be set on a copy of a slice from a DataFrame.\n",
      "Try using .loc[row_indexer,col_indexer] = value instead\n",
      "\n",
      "See the caveats in the documentation: https://pandas.pydata.org/pandas-docs/stable/user_guide/indexing.html#returning-a-view-versus-a-copy\n",
      "  self._setitem_single_column(loc, value[:, i].tolist(), pi)\n"
     ]
    },
    {
     "name": "stdout",
     "output_type": "stream",
     "text": [
      "evaluation after replacing the history:\n",
      "Accuracy: 0.7020827378921844\n",
      "Recall: 0.8498556838365897\n",
      "F-Measure: 0.6885924193605382\n",
      "Precision: 0.578768880176692\n",
      "\n"
     ]
    },
    {
     "name": "stderr",
     "output_type": "stream",
     "text": [
      "C:\\Users\\E56A~1\\AppData\\Local\\Temp/ipykernel_1468/2815741389.py:12: SettingWithCopyWarning: \n",
      "A value is trying to be set on a copy of a slice from a DataFrame.\n",
      "Try using .loc[row_indexer,col_indexer] = value instead\n",
      "\n",
      "See the caveats in the documentation: https://pandas.pydata.org/pandas-docs/stable/user_guide/indexing.html#returning-a-view-versus-a-copy\n",
      "  ts1['user_recs_v2'] =  ts2.reindex(ls)['user_recs_v2'].values\n"
     ]
    },
    {
     "name": "stdout",
     "output_type": "stream",
     "text": [
      "evaluation after the replacing history and the recs:\n",
      "Accuracy: 0.7176056965662637\n",
      "Recall: 0.7635990230905861\n",
      "F-Measure: 0.677003437779012\n",
      "Precision: 0.6080480381880864\n",
      "\n"
     ]
    }
   ],
   "source": [
    "# test set a before changing it\n",
    "test_set_a = test_set.loc[test_set['user_clicks']<2] #0-1 clicks\n",
    "del test_set_a ['is_click']\n",
    "\n",
    "#cosine - with neighbors with 4 or more clicks\n",
    "cosine_similarity = pd.read_pickle(\"cosinefrom4_dict.pkl\") \n",
    "cosine_similarity = list(cosine_similarity.values())\n",
    "evaluate_with_replacement(cosine_similarity,test_set_a, test_set_b)"
   ]
  },
  {
   "cell_type": "code",
   "execution_count": 30,
   "id": "b8dc7434",
   "metadata": {},
   "outputs": [
    {
     "name": "stdout",
     "output_type": "stream",
     "text": [
      "evaluation after changing the all row:\n",
      "Accuracy: 0.4548217671771326\n",
      "Recall: 0.7060866531337224\n",
      "F-Measure: 0.5009803452728229\n",
      "Precision: 0.3882114441416894\n",
      "\n"
     ]
    },
    {
     "name": "stderr",
     "output_type": "stream",
     "text": [
      "C:\\admin\\anaconda\\lib\\site-packages\\pandas\\core\\indexing.py:1835: SettingWithCopyWarning: \n",
      "A value is trying to be set on a copy of a slice from a DataFrame.\n",
      "Try using .loc[row_indexer,col_indexer] = value instead\n",
      "\n",
      "See the caveats in the documentation: https://pandas.pydata.org/pandas-docs/stable/user_guide/indexing.html#returning-a-view-versus-a-copy\n",
      "  self._setitem_single_column(loc, value[:, i].tolist(), pi)\n"
     ]
    },
    {
     "name": "stdout",
     "output_type": "stream",
     "text": [
      "evaluation after replacing the history:\n",
      "Accuracy: 0.7087977774294767\n",
      "Recall: 0.8408081705150977\n",
      "F-Measure: 0.6911800173388174\n",
      "Precision: 0.5867614019943115\n",
      "\n"
     ]
    },
    {
     "name": "stderr",
     "output_type": "stream",
     "text": [
      "C:\\Users\\E56A~1\\AppData\\Local\\Temp/ipykernel_1468/2815741389.py:12: SettingWithCopyWarning: \n",
      "A value is trying to be set on a copy of a slice from a DataFrame.\n",
      "Try using .loc[row_indexer,col_indexer] = value instead\n",
      "\n",
      "See the caveats in the documentation: https://pandas.pydata.org/pandas-docs/stable/user_guide/indexing.html#returning-a-view-versus-a-copy\n",
      "  ts1['user_recs_v2'] =  ts2.reindex(ls)['user_recs_v2'].values\n"
     ]
    },
    {
     "name": "stdout",
     "output_type": "stream",
     "text": [
      "evaluation after the replacing history and the recs:\n",
      "Accuracy: 0.717700967150088\n",
      "Recall: 0.7567558995178889\n",
      "F-Measure: 0.6751058434048152\n",
      "Precision: 0.6093591372584074\n",
      "\n"
     ]
    }
   ],
   "source": [
    "# test set a before changing it\n",
    "test_set_a = test_set.loc[test_set['user_clicks']<2] #0-1 clicks\n",
    "del test_set_a ['is_click']\n",
    "\n",
    "#cosine - with neighbors with 5 or more clicks\n",
    "cosine_similarity = pd.read_pickle(\"cosinefrom5_dict.pkl\") \n",
    "cosine_similarity = list(cosine_similarity.values())\n",
    "evaluate_with_replacement(cosine_similarity,test_set_a, test_set_b)"
   ]
  },
  {
   "cell_type": "markdown",
   "id": "5327a0a1",
   "metadata": {},
   "source": [
    "## jaccard"
   ]
  },
  {
   "cell_type": "code",
   "execution_count": 31,
   "id": "1141579d",
   "metadata": {},
   "outputs": [
    {
     "name": "stdout",
     "output_type": "stream",
     "text": [
      "evaluation after changing the all row:\n",
      "Accuracy: 0.40332033350850827\n",
      "Recall: 0.923504503933012\n",
      "F-Measure: 0.5453974988468284\n",
      "Precision: 0.38696419256340314\n",
      "\n"
     ]
    },
    {
     "name": "stderr",
     "output_type": "stream",
     "text": [
      "C:\\admin\\anaconda\\lib\\site-packages\\pandas\\core\\indexing.py:1835: SettingWithCopyWarning: \n",
      "A value is trying to be set on a copy of a slice from a DataFrame.\n",
      "Try using .loc[row_indexer,col_indexer] = value instead\n",
      "\n",
      "See the caveats in the documentation: https://pandas.pydata.org/pandas-docs/stable/user_guide/indexing.html#returning-a-view-versus-a-copy\n",
      "  self._setitem_single_column(loc, value[:, i].tolist(), pi)\n"
     ]
    },
    {
     "name": "stdout",
     "output_type": "stream",
     "text": [
      "evaluation after replacing the history:\n",
      "Accuracy: 0.7104020111312921\n",
      "Recall: 0.8181695635625476\n",
      "F-Measure: 0.6865140355429582\n",
      "Precision: 0.5913561284258548\n",
      "\n"
     ]
    },
    {
     "name": "stderr",
     "output_type": "stream",
     "text": [
      "C:\\Users\\E56A~1\\AppData\\Local\\Temp/ipykernel_1468/2815741389.py:12: SettingWithCopyWarning: \n",
      "A value is trying to be set on a copy of a slice from a DataFrame.\n",
      "Try using .loc[row_indexer,col_indexer] = value instead\n",
      "\n",
      "See the caveats in the documentation: https://pandas.pydata.org/pandas-docs/stable/user_guide/indexing.html#returning-a-view-versus-a-copy\n",
      "  ts1['user_recs_v2'] =  ts2.reindex(ls)['user_recs_v2'].values\n"
     ]
    },
    {
     "name": "stdout",
     "output_type": "stream",
     "text": [
      "evaluation after the replacing history and the recs:\n",
      "Accuracy: 0.7454677324679077\n",
      "Recall: 0.8297465744734839\n",
      "F-Measure: 0.7164639991235997\n",
      "Precision: 0.6303978504988192\n",
      "\n"
     ]
    }
   ],
   "source": [
    "# test set a before changing it\n",
    "test_set_a = test_set.loc[test_set['user_clicks']<2] #0-1 clicks\n",
    "del test_set_a ['is_click']\n",
    "\n",
    "# with neighbors with 2 or more clicks\n",
    "jaccard_similarity = pd.read_pickle(\"hamming_from_2_dict.pkl\") \n",
    "jaccard_similarity = list(jaccard_similarity.values())\n",
    "evaluate_with_replacement(jaccard_similarity,test_set_a, test_set_b)"
   ]
  },
  {
   "cell_type": "code",
   "execution_count": 32,
   "id": "33616695",
   "metadata": {},
   "outputs": [
    {
     "name": "stdout",
     "output_type": "stream",
     "text": [
      "evaluation after changing the all row:\n",
      "Accuracy: 0.4171714470987034\n",
      "Recall: 0.9277546942400406\n",
      "F-Measure: 0.552350064204245\n",
      "Precision: 0.3932330877608088\n",
      "\n"
     ]
    },
    {
     "name": "stderr",
     "output_type": "stream",
     "text": [
      "C:\\admin\\anaconda\\lib\\site-packages\\pandas\\core\\indexing.py:1835: SettingWithCopyWarning: \n",
      "A value is trying to be set on a copy of a slice from a DataFrame.\n",
      "Try using .loc[row_indexer,col_indexer] = value instead\n",
      "\n",
      "See the caveats in the documentation: https://pandas.pydata.org/pandas-docs/stable/user_guide/indexing.html#returning-a-view-versus-a-copy\n",
      "  self._setitem_single_column(loc, value[:, i].tolist(), pi)\n"
     ]
    },
    {
     "name": "stdout",
     "output_type": "stream",
     "text": [
      "evaluation after replacing the history:\n",
      "Accuracy: 0.6967660246658615\n",
      "Recall: 0.817225957878711\n",
      "F-Measure: 0.6762753737782692\n",
      "Precision: 0.5767932796436107\n",
      "\n"
     ]
    },
    {
     "name": "stderr",
     "output_type": "stream",
     "text": [
      "C:\\Users\\E56A~1\\AppData\\Local\\Temp/ipykernel_1468/2815741389.py:12: SettingWithCopyWarning: \n",
      "A value is trying to be set on a copy of a slice from a DataFrame.\n",
      "Try using .loc[row_indexer,col_indexer] = value instead\n",
      "\n",
      "See the caveats in the documentation: https://pandas.pydata.org/pandas-docs/stable/user_guide/indexing.html#returning-a-view-versus-a-copy\n",
      "  ts1['user_recs_v2'] =  ts2.reindex(ls)['user_recs_v2'].values\n"
     ]
    },
    {
     "name": "stdout",
     "output_type": "stream",
     "text": [
      "evaluation after the replacing history and the recs:\n",
      "Accuracy: 0.7381687764491117\n",
      "Recall: 0.822388036031464\n",
      "F-Measure: 0.7088506371679602\n",
      "Precision: 0.622859751007441\n",
      "\n"
     ]
    }
   ],
   "source": [
    "# test set a before changing it\n",
    "test_set_a = test_set.loc[test_set['user_clicks']<2] #0-1 clicks\n",
    "del test_set_a ['is_click']\n",
    "\n",
    "# with neighbors with 3 or more clicks\n",
    "jaccard_similarity = pd.read_pickle(\"hamming_from_3_dict.pkl\") \n",
    "jaccard_similarity = list(jaccard_similarity.values())\n",
    "evaluate_with_replacement(jaccard_similarity,test_set_a, test_set_b)"
   ]
  },
  {
   "cell_type": "code",
   "execution_count": 33,
   "id": "ceb9a9e9",
   "metadata": {},
   "outputs": [
    {
     "name": "stdout",
     "output_type": "stream",
     "text": [
      "evaluation after changing the all row:\n",
      "Accuracy: 0.397690149328957\n",
      "Recall: 0.9573870844963207\n",
      "F-Measure: 0.5519943492105581\n",
      "Precision: 0.3877899077883661\n",
      "\n"
     ]
    },
    {
     "name": "stderr",
     "output_type": "stream",
     "text": [
      "C:\\admin\\anaconda\\lib\\site-packages\\pandas\\core\\indexing.py:1835: SettingWithCopyWarning: \n",
      "A value is trying to be set on a copy of a slice from a DataFrame.\n",
      "Try using .loc[row_indexer,col_indexer] = value instead\n",
      "\n",
      "See the caveats in the documentation: https://pandas.pydata.org/pandas-docs/stable/user_guide/indexing.html#returning-a-view-versus-a-copy\n",
      "  self._setitem_single_column(loc, value[:, i].tolist(), pi)\n"
     ]
    },
    {
     "name": "stdout",
     "output_type": "stream",
     "text": [
      "evaluation after replacing the history:\n",
      "Accuracy: 0.7374711499159468\n",
      "Recall: 0.8033890510022836\n",
      "F-Measure: 0.7034486110436092\n",
      "Precision: 0.6256221209538982\n",
      "\n"
     ]
    },
    {
     "name": "stderr",
     "output_type": "stream",
     "text": [
      "C:\\Users\\E56A~1\\AppData\\Local\\Temp/ipykernel_1468/2815741389.py:12: SettingWithCopyWarning: \n",
      "A value is trying to be set on a copy of a slice from a DataFrame.\n",
      "Try using .loc[row_indexer,col_indexer] = value instead\n",
      "\n",
      "See the caveats in the documentation: https://pandas.pydata.org/pandas-docs/stable/user_guide/indexing.html#returning-a-view-versus-a-copy\n",
      "  ts1['user_recs_v2'] =  ts2.reindex(ls)['user_recs_v2'].values\n"
     ]
    },
    {
     "name": "stdout",
     "output_type": "stream",
     "text": [
      "evaluation after the replacing history and the recs:\n",
      "Accuracy: 0.763602949085556\n",
      "Recall: 0.8339809058614565\n",
      "F-Measure: 0.7322354153395227\n",
      "Precision: 0.6526163602405078\n",
      "\n"
     ]
    }
   ],
   "source": [
    "# test set a before changing it\n",
    "test_set_a = test_set.loc[test_set['user_clicks']<2] #0-1 clicks\n",
    "del test_set_a ['is_click']\n",
    "\n",
    "# with neighbors with 4 or more clicks\n",
    "jaccard_similarity = pd.read_pickle(\"hamming_from_4_dict.pkl\") \n",
    "jaccard_similarity = list(jaccard_similarity.values())\n",
    "evaluate_with_replacement(jaccard_similarity,test_set_a, test_set_b)"
   ]
  },
  {
   "cell_type": "markdown",
   "id": "7da94c1a",
   "metadata": {},
   "source": [
    "## euclidean"
   ]
  },
  {
   "cell_type": "code",
   "execution_count": 34,
   "id": "e19dab0c",
   "metadata": {},
   "outputs": [
    {
     "name": "stdout",
     "output_type": "stream",
     "text": [
      "evaluation after changing the all row:\n",
      "Accuracy: 0.4028685665465028\n",
      "Recall: 0.9356286475513829\n",
      "F-Measure: 0.5484419737478154\n",
      "Precision: 0.3879135763505339\n",
      "\n"
     ]
    },
    {
     "name": "stderr",
     "output_type": "stream",
     "text": [
      "C:\\admin\\anaconda\\lib\\site-packages\\pandas\\core\\indexing.py:1835: SettingWithCopyWarning: \n",
      "A value is trying to be set on a copy of a slice from a DataFrame.\n",
      "Try using .loc[row_indexer,col_indexer] = value instead\n",
      "\n",
      "See the caveats in the documentation: https://pandas.pydata.org/pandas-docs/stable/user_guide/indexing.html#returning-a-view-versus-a-copy\n",
      "  self._setitem_single_column(loc, value[:, i].tolist(), pi)\n"
     ]
    },
    {
     "name": "stdout",
     "output_type": "stream",
     "text": [
      "evaluation after replacing the history:\n",
      "Accuracy: 0.7230576325567244\n",
      "Recall: 0.8072348388733824\n",
      "F-Measure: 0.693195514064511\n",
      "Precision: 0.6073887569657411\n",
      "\n"
     ]
    },
    {
     "name": "stderr",
     "output_type": "stream",
     "text": [
      "C:\\Users\\E56A~1\\AppData\\Local\\Temp/ipykernel_1468/2815741389.py:12: SettingWithCopyWarning: \n",
      "A value is trying to be set on a copy of a slice from a DataFrame.\n",
      "Try using .loc[row_indexer,col_indexer] = value instead\n",
      "\n",
      "See the caveats in the documentation: https://pandas.pydata.org/pandas-docs/stable/user_guide/indexing.html#returning-a-view-versus-a-copy\n",
      "  ts1['user_recs_v2'] =  ts2.reindex(ls)['user_recs_v2'].values\n"
     ]
    },
    {
     "name": "stdout",
     "output_type": "stream",
     "text": [
      "evaluation after the replacing history and the recs:\n",
      "Accuracy: 0.7525177556709046\n",
      "Recall: 0.8210400279116975\n",
      "F-Measure: 0.7200136293782639\n",
      "Precision: 0.641125187304182\n",
      "\n"
     ]
    }
   ],
   "source": [
    "# test set a before changing it\n",
    "test_set_a = test_set.loc[test_set['user_clicks']<2] #0-1 clicks\n",
    "del test_set_a ['is_click']\n",
    "\n",
    "# with neighbors with 2 or more clicks\n",
    "euclidean_similarity = pd.read_pickle(\"euclideanfrom2_dict.pkl\") \n",
    "euclidean_similarity = list(euclidean_similarity.values())\n",
    "evaluate_with_replacement(euclidean_similarity,test_set_a, test_set_b)"
   ]
  },
  {
   "cell_type": "code",
   "execution_count": 35,
   "id": "dc7c0c3f",
   "metadata": {},
   "outputs": [
    {
     "name": "stdout",
     "output_type": "stream",
     "text": [
      "evaluation after changing the all row:\n",
      "Accuracy: 0.40159624326575266\n",
      "Recall: 0.9353511164679016\n",
      "F-Measure: 0.5478413123037769\n",
      "Precision: 0.38736043609615134\n",
      "\n"
     ]
    },
    {
     "name": "stderr",
     "output_type": "stream",
     "text": [
      "C:\\admin\\anaconda\\lib\\site-packages\\pandas\\core\\indexing.py:1835: SettingWithCopyWarning: \n",
      "A value is trying to be set on a copy of a slice from a DataFrame.\n",
      "Try using .loc[row_indexer,col_indexer] = value instead\n",
      "\n",
      "See the caveats in the documentation: https://pandas.pydata.org/pandas-docs/stable/user_guide/indexing.html#returning-a-view-versus-a-copy\n",
      "  self._setitem_single_column(loc, value[:, i].tolist(), pi)\n"
     ]
    },
    {
     "name": "stdout",
     "output_type": "stream",
     "text": [
      "evaluation after replacing the history:\n",
      "Accuracy: 0.721914385550833\n",
      "Recall: 0.8076709591474245\n",
      "F-Measure: 0.6924337185588035\n",
      "Precision: 0.6059742515825044\n",
      "\n"
     ]
    },
    {
     "name": "stderr",
     "output_type": "stream",
     "text": [
      "C:\\Users\\E56A~1\\AppData\\Local\\Temp/ipykernel_1468/2815741389.py:12: SettingWithCopyWarning: \n",
      "A value is trying to be set on a copy of a slice from a DataFrame.\n",
      "Try using .loc[row_indexer,col_indexer] = value instead\n",
      "\n",
      "See the caveats in the documentation: https://pandas.pydata.org/pandas-docs/stable/user_guide/indexing.html#returning-a-view-versus-a-copy\n",
      "  ts1['user_recs_v2'] =  ts2.reindex(ls)['user_recs_v2'].values\n"
     ]
    },
    {
     "name": "stdout",
     "output_type": "stream",
     "text": [
      "evaluation after the replacing history and the recs:\n",
      "Accuracy: 0.7515927090344172\n",
      "Recall: 0.8206594138543517\n",
      "F-Measure: 0.7191672544203128\n",
      "Precision: 0.6400155837409636\n",
      "\n"
     ]
    }
   ],
   "source": [
    "# test set a before changing it\n",
    "test_set_a = test_set.loc[test_set['user_clicks']<2] #0-1 clicks\n",
    "del test_set_a ['is_click']\n",
    "\n",
    "#- with neighbors with 3 or more clicks\n",
    "euclidean_similarity = pd.read_pickle(\"euclideanfrom3_dict.pkl\") \n",
    "euclidean_similarity = list(euclidean_similarity.values())\n",
    "evaluate_with_replacement(euclidean_similarity,test_set_a, test_set_b)"
   ]
  },
  {
   "cell_type": "code",
   "execution_count": 36,
   "id": "dae46eff",
   "metadata": {},
   "outputs": [
    {
     "name": "stdout",
     "output_type": "stream",
     "text": [
      "evaluation after changing the all row:\n",
      "Accuracy: 0.4016822941156585\n",
      "Recall: 0.9358189545800558\n",
      "F-Measure: 0.5480007986589959\n",
      "Precision: 0.38743967696398673\n",
      "\n"
     ]
    },
    {
     "name": "stderr",
     "output_type": "stream",
     "text": [
      "C:\\admin\\anaconda\\lib\\site-packages\\pandas\\core\\indexing.py:1835: SettingWithCopyWarning: \n",
      "A value is trying to be set on a copy of a slice from a DataFrame.\n",
      "Try using .loc[row_indexer,col_indexer] = value instead\n",
      "\n",
      "See the caveats in the documentation: https://pandas.pydata.org/pandas-docs/stable/user_guide/indexing.html#returning-a-view-versus-a-copy\n",
      "  self._setitem_single_column(loc, value[:, i].tolist(), pi)\n"
     ]
    },
    {
     "name": "stdout",
     "output_type": "stream",
     "text": [
      "evaluation after replacing the history:\n",
      "Accuracy: 0.7226365980411139\n",
      "Recall: 0.8085035523978685\n",
      "F-Measure: 0.6932064247471742\n",
      "Precision: 0.6066891582323295\n",
      "\n"
     ]
    },
    {
     "name": "stderr",
     "output_type": "stream",
     "text": [
      "C:\\Users\\E56A~1\\AppData\\Local\\Temp/ipykernel_1468/2815741389.py:12: SettingWithCopyWarning: \n",
      "A value is trying to be set on a copy of a slice from a DataFrame.\n",
      "Try using .loc[row_indexer,col_indexer] = value instead\n",
      "\n",
      "See the caveats in the documentation: https://pandas.pydata.org/pandas-docs/stable/user_guide/indexing.html#returning-a-view-versus-a-copy\n",
      "  ts1['user_recs_v2'] =  ts2.reindex(ls)['user_recs_v2'].values\n"
     ]
    },
    {
     "name": "stdout",
     "output_type": "stream",
     "text": [
      "evaluation after the replacing history and the recs:\n",
      "Accuracy: 0.7521397465802471\n",
      "Recall: 0.819501712763258\n",
      "F-Measure: 0.7193273684613484\n",
      "Precision: 0.6409757065685916\n",
      "\n"
     ]
    }
   ],
   "source": [
    "# test set a before changing it\n",
    "test_set_a = test_set.loc[test_set['user_clicks']<2] #0-1 clicks\n",
    "del test_set_a ['is_click']\n",
    "\n",
    "#with neighbors with 4 or more clicks\n",
    "euclidean_similarity = pd.read_pickle(\"euclideanfrom4_dict.pkl\") \n",
    "euclidean_similarity = list(euclidean_similarity.values())\n",
    "evaluate_with_replacement(euclidean_similarity,test_set_a, test_set_b)"
   ]
  },
  {
   "cell_type": "code",
   "execution_count": 37,
   "id": "9eba0cfc",
   "metadata": {},
   "outputs": [
    {
     "name": "stdout",
     "output_type": "stream",
     "text": [
      "evaluation after changing the all row:\n",
      "Accuracy: 0.39996435036218186\n",
      "Recall: 0.9362312864755138\n",
      "F-Measure: 0.5473996546008785\n",
      "Precision: 0.38676856453076425\n",
      "\n"
     ]
    },
    {
     "name": "stderr",
     "output_type": "stream",
     "text": [
      "C:\\admin\\anaconda\\lib\\site-packages\\pandas\\core\\indexing.py:1835: SettingWithCopyWarning: \n",
      "A value is trying to be set on a copy of a slice from a DataFrame.\n",
      "Try using .loc[row_indexer,col_indexer] = value instead\n",
      "\n",
      "See the caveats in the documentation: https://pandas.pydata.org/pandas-docs/stable/user_guide/indexing.html#returning-a-view-versus-a-copy\n",
      "  self._setitem_single_column(loc, value[:, i].tolist(), pi)\n"
     ]
    },
    {
     "name": "stdout",
     "output_type": "stream",
     "text": [
      "evaluation after replacing the history:\n",
      "Accuracy: 0.7243422488160325\n",
      "Recall: 0.8098594899771632\n",
      "F-Measure: 0.6948721263292535\n",
      "Precision: 0.6084778075662794\n",
      "\n"
     ]
    },
    {
     "name": "stderr",
     "output_type": "stream",
     "text": [
      "C:\\Users\\E56A~1\\AppData\\Local\\Temp/ipykernel_1468/2815741389.py:12: SettingWithCopyWarning: \n",
      "A value is trying to be set on a copy of a slice from a DataFrame.\n",
      "Try using .loc[row_indexer,col_indexer] = value instead\n",
      "\n",
      "See the caveats in the documentation: https://pandas.pydata.org/pandas-docs/stable/user_guide/indexing.html#returning-a-view-versus-a-copy\n",
      "  ts1['user_recs_v2'] =  ts2.reindex(ls)['user_recs_v2'].values\n"
     ]
    },
    {
     "name": "stdout",
     "output_type": "stream",
     "text": [
      "evaluation after the replacing history and the recs:\n",
      "Accuracy: 0.7516295879700912\n",
      "Recall: 0.8211113930474498\n",
      "F-Measure: 0.7193084214072609\n",
      "Precision: 0.6399644024745225\n",
      "\n"
     ]
    }
   ],
   "source": [
    "# test set a before changing it\n",
    "test_set_a = test_set.loc[test_set['user_clicks']<2] #0-1 clicks\n",
    "del test_set_a ['is_click']\n",
    "\n",
    "# with neighbors with 5 or more clicks\n",
    "euclidean_similarity = pd.read_pickle(\"euclideanfrom5_dict.pkl\") \n",
    "euclidean_similarity = list(euclidean_similarity.values())\n",
    "evaluate_with_replacement(euclidean_similarity,test_set_a, test_set_b)"
   ]
  },
  {
   "cell_type": "markdown",
   "id": "bcc370dd",
   "metadata": {},
   "source": [
    "## manhattan"
   ]
  },
  {
   "cell_type": "code",
   "execution_count": 38,
   "id": "50ce86f9",
   "metadata": {},
   "outputs": [
    {
     "name": "stdout",
     "output_type": "stream",
     "text": [
      "evaluation after changing the all row:\n",
      "Accuracy: 0.40263807319854084\n",
      "Recall: 0.938736995686374\n",
      "F-Measure: 0.5491676852674379\n",
      "Precision: 0.38810628288557053\n",
      "\n"
     ]
    },
    {
     "name": "stderr",
     "output_type": "stream",
     "text": [
      "C:\\admin\\anaconda\\lib\\site-packages\\pandas\\core\\indexing.py:1835: SettingWithCopyWarning: \n",
      "A value is trying to be set on a copy of a slice from a DataFrame.\n",
      "Try using .loc[row_indexer,col_indexer] = value instead\n",
      "\n",
      "See the caveats in the documentation: https://pandas.pydata.org/pandas-docs/stable/user_guide/indexing.html#returning-a-view-versus-a-copy\n",
      "  self._setitem_single_column(loc, value[:, i].tolist(), pi)\n"
     ]
    },
    {
     "name": "stdout",
     "output_type": "stream",
     "text": [
      "evaluation after replacing the history:\n",
      "Accuracy: 0.7223108341093276\n",
      "Recall: 0.8076630296878965\n",
      "F-Measure: 0.6927353784315926\n",
      "Precision: 0.6064409342867519\n",
      "\n"
     ]
    },
    {
     "name": "stderr",
     "output_type": "stream",
     "text": [
      "C:\\Users\\E56A~1\\AppData\\Local\\Temp/ipykernel_1468/2815741389.py:12: SettingWithCopyWarning: \n",
      "A value is trying to be set on a copy of a slice from a DataFrame.\n",
      "Try using .loc[row_indexer,col_indexer] = value instead\n",
      "\n",
      "See the caveats in the documentation: https://pandas.pydata.org/pandas-docs/stable/user_guide/indexing.html#returning-a-view-versus-a-copy\n",
      "  ts1['user_recs_v2'] =  ts2.reindex(ls)['user_recs_v2'].values\n"
     ]
    },
    {
     "name": "stdout",
     "output_type": "stream",
     "text": [
      "evaluation after the replacing history and the recs:\n",
      "Accuracy: 0.7520383295071438\n",
      "Recall: 0.8214761481857397\n",
      "F-Measure: 0.7197304432402389\n",
      "Precision: 0.6404109589041096\n",
      "\n"
     ]
    }
   ],
   "source": [
    "# test set a before changing it\n",
    "test_set_a = test_set.loc[test_set['user_clicks']<2] #0-1 clicks\n",
    "del test_set_a ['is_click']\n",
    "\n",
    "#  neighbors with 2 or more clicks\n",
    "manhattan_similarity = pd.read_pickle(\"manhattan_from_2_dict.pkl\") \n",
    "manhattan_similarity = list(manhattan_similarity.values())\n",
    "evaluate_with_replacement(manhattan_similarity,test_set_a, test_set_b)"
   ]
  },
  {
   "cell_type": "code",
   "execution_count": 39,
   "id": "8da385cc",
   "metadata": {},
   "outputs": [
    {
     "name": "stdout",
     "output_type": "stream",
     "text": [
      "evaluation after changing the all row:\n",
      "Accuracy: 0.40008420690312213\n",
      "Recall: 0.9343678634864248\n",
      "F-Measure: 0.5469555045999314\n",
      "Precision: 0.3866434355763804\n",
      "\n"
     ]
    },
    {
     "name": "stderr",
     "output_type": "stream",
     "text": [
      "C:\\admin\\anaconda\\lib\\site-packages\\pandas\\core\\indexing.py:1835: SettingWithCopyWarning: \n",
      "A value is trying to be set on a copy of a slice from a DataFrame.\n",
      "Try using .loc[row_indexer,col_indexer] = value instead\n",
      "\n",
      "See the caveats in the documentation: https://pandas.pydata.org/pandas-docs/stable/user_guide/indexing.html#returning-a-view-versus-a-copy\n",
      "  self._setitem_single_column(loc, value[:, i].tolist(), pi)\n"
     ]
    },
    {
     "name": "stdout",
     "output_type": "stream",
     "text": [
      "evaluation after replacing the history:\n",
      "Accuracy: 0.7222309297487007\n",
      "Recall: 0.8075758056330881\n",
      "F-Measure: 0.6926511444437266\n",
      "Precision: 0.6063610004703472\n",
      "\n"
     ]
    },
    {
     "name": "stderr",
     "output_type": "stream",
     "text": [
      "C:\\Users\\E56A~1\\AppData\\Local\\Temp/ipykernel_1468/2815741389.py:12: SettingWithCopyWarning: \n",
      "A value is trying to be set on a copy of a slice from a DataFrame.\n",
      "Try using .loc[row_indexer,col_indexer] = value instead\n",
      "\n",
      "See the caveats in the documentation: https://pandas.pydata.org/pandas-docs/stable/user_guide/indexing.html#returning-a-view-versus-a-copy\n",
      "  ts1['user_recs_v2'] =  ts2.reindex(ls)['user_recs_v2'].values\n"
     ]
    },
    {
     "name": "stdout",
     "output_type": "stream",
     "text": [
      "evaluation after the replacing history and the recs:\n",
      "Accuracy: 0.7518539348287742\n",
      "Recall: 0.8215237249429079\n",
      "F-Measure: 0.7195921542479301\n",
      "Precision: 0.6401631240731587\n",
      "\n"
     ]
    }
   ],
   "source": [
    "# test set a before changing it\n",
    "test_set_a = test_set.loc[test_set['user_clicks']<2] #0-1 clicks\n",
    "del test_set_a ['is_click']\n",
    "\n",
    "#  neighbors with 3 or more clicks\n",
    "manhattan_similarity = pd.read_pickle(\"manhattan_from_3_dict.pkl\") \n",
    "manhattan_similarity = list(manhattan_similarity.values())\n",
    "evaluate_with_replacement(manhattan_similarity,test_set_a, test_set_b)"
   ]
  },
  {
   "cell_type": "code",
   "execution_count": 40,
   "id": "dd7da6ec",
   "metadata": {},
   "outputs": [
    {
     "name": "stdout",
     "output_type": "stream",
     "text": [
      "evaluation after changing the all row:\n",
      "Accuracy: 0.4002501621136547\n",
      "Recall: 0.9360171910682568\n",
      "F-Measure: 0.5474610307996977\n",
      "Precision: 0.38686640928665533\n",
      "\n"
     ]
    },
    {
     "name": "stderr",
     "output_type": "stream",
     "text": [
      "C:\\admin\\anaconda\\lib\\site-packages\\pandas\\core\\indexing.py:1835: SettingWithCopyWarning: \n",
      "A value is trying to be set on a copy of a slice from a DataFrame.\n",
      "Try using .loc[row_indexer,col_indexer] = value instead\n",
      "\n",
      "See the caveats in the documentation: https://pandas.pydata.org/pandas-docs/stable/user_guide/indexing.html#returning-a-view-versus-a-copy\n",
      "  self._setitem_single_column(loc, value[:, i].tolist(), pi)\n"
     ]
    },
    {
     "name": "stdout",
     "output_type": "stream",
     "text": [
      "evaluation after replacing the history:\n",
      "Accuracy: 0.7220772675167262\n",
      "Recall: 0.8085035523978685\n",
      "F-Measure: 0.6927778174121899\n",
      "Precision: 0.6060328687330976\n",
      "\n"
     ]
    },
    {
     "name": "stderr",
     "output_type": "stream",
     "text": [
      "C:\\Users\\E56A~1\\AppData\\Local\\Temp/ipykernel_1468/2815741389.py:12: SettingWithCopyWarning: \n",
      "A value is trying to be set on a copy of a slice from a DataFrame.\n",
      "Try using .loc[row_indexer,col_indexer] = value instead\n",
      "\n",
      "See the caveats in the documentation: https://pandas.pydata.org/pandas-docs/stable/user_guide/indexing.html#returning-a-view-versus-a-copy\n",
      "  ts1['user_recs_v2'] =  ts2.reindex(ls)['user_recs_v2'].values\n"
     ]
    },
    {
     "name": "stdout",
     "output_type": "stream",
     "text": [
      "evaluation after the replacing history and the recs:\n",
      "Accuracy: 0.7516295879700912\n",
      "Recall: 0.8215792311596042\n",
      "F-Measure: 0.7194234114130379\n",
      "Precision: 0.6398624071340789\n",
      "\n"
     ]
    }
   ],
   "source": [
    "# test set a before changing it\n",
    "test_set_a = test_set.loc[test_set['user_clicks']<2] #0-1 clicks\n",
    "del test_set_a ['is_click']\n",
    "\n",
    "#  neighbors with 4 or more clicks\n",
    "manhattan_similarity = pd.read_pickle(\"manhattan_from_4_dict.pkl\") \n",
    "manhattan_similarity = list(manhattan_similarity.values())\n",
    "evaluate_with_replacement(manhattan_similarity,test_set_a, test_set_b)"
   ]
  },
  {
   "cell_type": "markdown",
   "id": "e60822f8",
   "metadata": {},
   "source": [
    "## The results\n",
    "\n",
    "| | Accuracy | Recall | F-measure | Precision | \n",
    "|----------:|:----------|:----------|:----------|:----------|\n",
    "| original data 0-1 clicks | 0.7889633638506526 | 0.7600862725196651 | 0.7362749202130724 | 0.7139101356232638 |\n",
    "| cosine | | | | |\n",
    "| all row | 0.4388808472320822 | 0.7652642095914742 | 0.5138924387646432 | 0.3868282242031681 |\n",
    "| history | 0.7059980515628985 | 0.8375570921086019 | 0.6883033523721396 | 0.5841984458394403 |\n",
    "|  history with recs | 0.744198482431797 | 0.7689434788124841 | 0.6997088545030142 | 0.6419119739986364 |\n",
    "| all row from 3 | 0.4511553863222174 | 0.7194240040598833 | 0.5039828465409782 | 0.3878392011353727 |\n",
    "| history from 3 | 0.7416569091149363 | 0.8097564070032987 | 0.7084238055927464 | 0.629631913188236 |\n",
    "| history with recs from 3 | 0.7585443884089506 | 0.7311675336209084 | 0.7012491206722816 | 0.6736829031291781 |\n",
    "| all row from 4 | 0.4527780594918697 | 0.7158240294341538 | 0.5034689689019766 | 0.3882819489367559 |\n",
    "| history from 4 | 0.7020827378921844 | 0.8498556838365897 | 0.6885924193605382 | 0.578768880176692 |\n",
    "| history with recs from 4 | 0.7176056965662637 | 0.7635990230905861 | 0.677003437779012 | 0.6080480381880864 |\n",
    "| all row from 5 | 0.4548217671771326 | 0.7060866531337224 | 0.5009803452728229 | 0.3882114441416894 |\n",
    "| history from 5 | 0.7087977774294767 | 0.8408081705150977 | 0.6911800173388174 | 0.5867614019943115 |\n",
    "| history with recs from 5 | 0.717700967150088 | 0.7567558995178889 | 0.6751058434048152 | 0.6093591372584074 |\n",
    "| jaccard | | | | |\n",
    "| all row | 0.40332033350850827 | 0.923504503933012 | 0.5453974988468284 | 0.38696419256340314 |\n",
    "| history | 0.7104020111312921 | 0.8181695635625476 | 0.6865140355429582 | 0.5913561284258548 |\n",
    "| history with recs | 0.7454677324679077 | 0.8297465744734839 | 0.7164639991235997 | 0.6303978504988192 |\n",
    "| all row from 3 | 0.4171714470987034 | 0.9277546942400406 | 0.552350064204245 | 0.3932330877608088 |\n",
    "| history from 3 | 0.6967660246658615 | 0.817225957878711 | 0.6762753737782692 | 0.5767932796436107 |\n",
    "| history with recs from 3 | 0.7381687764491117 | 0.822388036031464 | 0.7088506371679602 | 0.622859751007441 |\n",
    "| all row from 4 | 0.397690149328957 | 0.9573870844963207 | 0.5519943492105581 | 0.3877899077883661 |\n",
    "| history from 4 | 0.7374711499159468 | 0.8033890510022836 | 0.7034486110436092 | 0.6256221209538982 |\n",
    "| history with recs from 4 | 0.763602949085556 | 0.8339809058614565 | 0.7322354153395227 | 0.6526163602405078 |\n",
    "| euclidean | | | | |\n",
    "| all row | 0.4028685665465028 | 0.9356286475513829 | 0.5484419737478154 | 0.3879135763505339 |\n",
    "| history | 0.7230576325567244 | 0.8072348388733824 | 0.693195514064511 | 0.6073887569657411 |\n",
    "| history with recs | 0.7525177556709046 | 0.8210400279116975 | 0.7200136293782639 | 0.641125187304182 |\n",
    "| all row from 3 | 0.40159624326575266 | 0.9353511164679016 | 0.5478413123037769 | 0.38736043609615134 |\n",
    "| history from 3 | 0.721914385550833 | 0.8076709591474245 | 0.6924337185588035 | 0.6059742515825044 |\n",
    "| history with recs from 3 | 0.7515927090344172 | 0.8206594138543517 | 0.7191672544203128 | 0.6400155837409636 |\n",
    "| all row from 4 | 0.4016822941156585 | 0.9358189545800558 | 0.5480007986589959 | 0.38743967696398673 |\n",
    "| history from 4 | 0.7226365980411139 | 0.8085035523978685 | 0.6932064247471742 | 0.6066891582323295 |\n",
    "| history with recs from 4 | 0.7521397465802471 | 0.819501712763258 | 0.7193273684613484 | 0.6409757065685916 |\n",
    "| all row from 5 | 0.39996435036218186 | 0.9362312864755138 | 0.5473996546008785 | 0.38676856453076425 |\n",
    "| history from 5 | 0.7243422488160325 | 0.8098594899771632 | 0.6948721263292535 | 0.5031336017889639 |\n",
    "| history with recs from 5 | 0.7516295879700912 | 0.8211113930474498 | 0.7193084214072609 | 0.6399644024745225 |\n",
    "| Manhattan | | | | |\n",
    "| all row | 0.40263807319854084  | 0.938736995686374 | 0.5491676852674379 | 0.38810628288557053 |\n",
    "| history | 0.7223108341093276 | 0.8076630296878965 | 0.6927353784315926 | 0.6064409342867519 |\n",
    "| history with recs | 0.7520383295071438 | 0.8214761481857397 | 0.7197304432402389 | 0.6404109589041096 |\n",
    "| all row from 3 | 0.40008420690312213 | 0.9343678634864248 | 0.5469555045999314 | 0.3866434355763804 |\n",
    "| history from 3 | 0.7222309297487007 | 0.8075758056330881 | 0.6926511444437266 | 0.6063610004703472 |\n",
    "| history with recs from 3 | 0.7518539348287742 | 0.8215237249429079 | 0.7195921542479301 | 0.6401631240731587 |\n",
    "| all row from 4 | 0.4002501621136547 | 0.9360171910682568 | 0.5474610307996977 | 0.38686640928665533 |\n",
    "| history from 4 | 0.7220772675167262 | 0.8085035523978685 | 0.6927778174121899 | 0.6060328687330976 |\n",
    "| history with recs from 4 | 0.7516295879700912 | 0.8215792311596042 | 0.7194234114130379 | 0.6398624071340789 |\n"
   ]
  },
  {
   "cell_type": "markdown",
   "id": "d2e637b5",
   "metadata": {},
   "source": [
    "\n"
   ]
  }
 ],
 "metadata": {
  "kernelspec": {
   "display_name": "Python 3 (ipykernel)",
   "language": "python",
   "name": "python3"
  },
  "language_info": {
   "codemirror_mode": {
    "name": "ipython",
    "version": 3
   },
   "file_extension": ".py",
   "mimetype": "text/x-python",
   "name": "python",
   "nbconvert_exporter": "python",
   "pygments_lexer": "ipython3",
   "version": "3.9.7"
  }
 },
 "nbformat": 4,
 "nbformat_minor": 5
}
