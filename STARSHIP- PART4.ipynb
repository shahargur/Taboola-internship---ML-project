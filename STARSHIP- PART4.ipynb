{
 "cells": [
  {
   "cell_type": "markdown",
   "id": "9b35f8b3",
   "metadata": {},
   "source": [
    "# part 4 - reprepering the data for better results"
   ]
  },
  {
   "cell_type": "code",
   "execution_count": 69,
   "id": "687a5f10",
   "metadata": {},
   "outputs": [],
   "source": [
    "import numpy as np\n",
    "import pandas as pd\n",
    "\n",
    "data= pd.read_parquet('data_for_starship_2022.snappy.parquet', engine='pyarrow')"
   ]
  },
  {
   "cell_type": "code",
   "execution_count": 7,
   "id": "ef854177",
   "metadata": {},
   "outputs": [],
   "source": [
    "##Entropy\n",
    "def entropy(Y):\n",
    "    \"\"\"\n",
    "    Also known as Shanon Entropy\n",
    "    Reference: https://en.wikipedia.org/wiki/Entropy_(information_theory)\n",
    "    \"\"\"\n",
    "    unique, count = np.unique(Y, return_counts=True, axis=0)\n",
    "    prob = count/len(Y)\n",
    "    en = np.sum((-1)*prob*np.log2(prob))\n",
    "    return en\n",
    "\n",
    "\n",
    "#Joint Entropy\n",
    "def jEntropy(Y,X):\n",
    "    \"\"\"\n",
    "    H(Y;X)\n",
    "    Reference: https://en.wikipedia.org/wiki/Joint_entropy\n",
    "    \"\"\"\n",
    "    YX = np.c_[Y,X]\n",
    "    return entropy(YX)\n",
    "\n",
    "#Conditional Entropy\n",
    "def cEntropy(Y, X):\n",
    "    \"\"\"\n",
    "    conditional entropy = Joint Entropy - Entropy of X\n",
    "    H(Y|X) = H(Y;X) - H(X)\n",
    "    Reference: https://en.wikipedia.org/wiki/Conditional_entropy\n",
    "    \"\"\"\n",
    "    return jEntropy(Y, X) - entropy(X)\n",
    "\n",
    "\n",
    "#Information Gain\n",
    "def gain(Y, X):\n",
    "    \"\"\"\n",
    "    Information Gain, I(Y;X) = H(Y) - H(Y|X)\n",
    "    Reference: https://en.wikipedia.org/wiki/Information_gain_in_decision_trees#Formal_definition\n",
    "    \"\"\"\n",
    "    return entropy(Y) - cEntropy(Y,X)"
   ]
  },
  {
   "cell_type": "markdown",
   "id": "2a8c421f",
   "metadata": {},
   "source": [
    "## non array features"
   ]
  },
  {
   "cell_type": "code",
   "execution_count": 70,
   "id": "23e4c57a",
   "metadata": {},
   "outputs": [],
   "source": [
    "data.drop([ 'user_iab_category_ids', 'user_iab_category_clicks',\n",
    "       'user_iab_category_recs', 'user_syndicator_ids',\n",
    "       'user_syndicator_clicks', 'user_syndicator_recs', 'user_item_ids',\n",
    "       'user_item_clicks','target_named_entities_ids'], axis=1,inplace= True)"
   ]
  },
  {
   "cell_type": "code",
   "execution_count": 71,
   "id": "bfd5fb69",
   "metadata": {},
   "outputs": [],
   "source": [
    "# the calculation is on numbers so we turn all features that have object code into numerical code\n",
    "cols= data.select_dtypes(include=['object']).columns\n",
    "\n",
    "for c in cols:\n",
    "    data[c] = data[c].astype(\"category\").cat.codes"
   ]
  },
  {
   "cell_type": "code",
   "execution_count": 72,
   "id": "ea2bd959",
   "metadata": {},
   "outputs": [
    {
     "name": "stderr",
     "output_type": "stream",
     "text": [
      "C:\\Users\\E56A~1\\AppData\\Local\\Temp/ipykernel_19400/819531479.py:7: RuntimeWarning: invalid value encountered in double_scalars\n",
      "  non_arrays_entropy[c] = cEntropy(data[c].values, data['is_click'].values)/entropy(data[c].values)\n",
      "C:\\admin\\anaconda\\lib\\site-packages\\sklearn\\metrics\\cluster\\_supervised.py:58: UserWarning: Clustering metrics expects discrete values but received continuous values for label, and binary values for target\n",
      "  warnings.warn(msg, UserWarning)\n",
      "C:\\admin\\anaconda\\lib\\site-packages\\sklearn\\metrics\\cluster\\_supervised.py:58: UserWarning: Clustering metrics expects discrete values but received continuous values for label, and binary values for target\n",
      "  warnings.warn(msg, UserWarning)\n",
      "C:\\admin\\anaconda\\lib\\site-packages\\sklearn\\metrics\\cluster\\_supervised.py:58: UserWarning: Clustering metrics expects discrete values but received continuous values for label, and binary values for target\n",
      "  warnings.warn(msg, UserWarning)\n",
      "C:\\admin\\anaconda\\lib\\site-packages\\sklearn\\metrics\\cluster\\_supervised.py:58: UserWarning: Clustering metrics expects discrete values but received continuous values for label, and binary values for target\n",
      "  warnings.warn(msg, UserWarning)\n"
     ]
    }
   ],
   "source": [
    "# create conditional entropy and mutual information dict for non-array features\n",
    "from sklearn import metrics\n",
    "\n",
    "non_arrays_entropy = {}\n",
    "non_arrays_mutual_info={}\n",
    "for c in data.columns:\n",
    "    non_arrays_entropy[c] = cEntropy(data[c].values, data['is_click'].values)/entropy(data[c].values)\n",
    "    non_arrays_mutual_info[c] = metrics.mutual_info_score(data[c].values, data['is_click'].values)"
   ]
  },
  {
   "cell_type": "code",
   "execution_count": 73,
   "id": "6720ffb8",
   "metadata": {},
   "outputs": [],
   "source": [
    "# remove the iab category ids with low mutual infarmaton and high conditional entropy\n",
    "remove_col_non_array1 = {k:v for k,v in non_arrays_mutual_info.items() if v<0.0001}\n",
    "remove_col_non_array2 = {k:v for k,v in non_arrays_entropy.items() if v>0.99}\n",
    "remove_col_non_array =  np.unique(list(remove_col_non_array1.keys()) + list(remove_col_non_array2.keys()) )"
   ]
  },
  {
   "cell_type": "code",
   "execution_count": 75,
   "id": "c326d103",
   "metadata": {},
   "outputs": [
    {
     "data": {
      "text/plain": [
       "array(['city', 'day_of_week_v2', 'empiric_clicks', 'gmt_offset',\n",
       "       'iab_category', 'prev_syndicator_recs',\n",
       "       'publisher_syndicator_empiric_clicks',\n",
       "       'publisher_target_empiric_clicks', 'region', 'site_visitor',\n",
       "       'target_item_type_string', 'target_item_upper_taxonomy',\n",
       "       'time_of_day_v2', 'user_recs_v2'], dtype='<U35')"
      ]
     },
     "execution_count": 75,
     "metadata": {},
     "output_type": "execute_result"
    }
   ],
   "source": [
    "remove_col_non_array"
   ]
  },
  {
   "cell_type": "code",
   "execution_count": 76,
   "id": "9738a0af",
   "metadata": {},
   "outputs": [],
   "source": [
    "data.drop(remove_col_non_array, axis=1,inplace= True)"
   ]
  },
  {
   "cell_type": "code",
   "execution_count": 77,
   "id": "02b94838",
   "metadata": {},
   "outputs": [],
   "source": [
    "### Turn the categoricals features into one-hot encoding\n",
    "categorical_features=['quality_level_string','browser_platform_string', 'title_detected_language', ]\n",
    "for c in categorical_features:\n",
    "    df1= pd.get_dummies(data[c] , prefix=c)\n",
    "    data.drop([c], axis=1, inplace=True)\n",
    "    data = pd.concat([data, df1], axis=1)"
   ]
  },
  {
   "cell_type": "code",
   "execution_count": 80,
   "id": "756e7dec",
   "metadata": {},
   "outputs": [],
   "source": [
    "data.to_parquet('ready data part 4/non_array.snappy.parquet',\n",
    "              compression='snappy',engine='pyarrow')"
   ]
  },
  {
   "cell_type": "markdown",
   "id": "ad9c9e6a",
   "metadata": {},
   "source": [
    "## iab category ctr"
   ]
  },
  {
   "cell_type": "code",
   "execution_count": 1,
   "id": "832e1616",
   "metadata": {},
   "outputs": [],
   "source": [
    "import numpy as np\n",
    "import pandas as pd\n",
    "\n",
    "data = pd.read_parquet('data_for_starship_2022.snappy.parquet', engine='pyarrow',columns=['is_click', 'user_iab_category_ids', 'user_iab_category_clicks','user_iab_category_recs'])"
   ]
  },
  {
   "cell_type": "code",
   "execution_count": 2,
   "id": "5f00d791",
   "metadata": {},
   "outputs": [
    {
     "data": {
      "text/plain": [
       "(2500000, 92)"
      ]
     },
     "execution_count": 2,
     "metadata": {},
     "output_type": "execute_result"
    }
   ],
   "source": [
    "category_ids_arrys = data['user_iab_category_ids']\n",
    "category_ids_arrys=category_ids_arrys.to_numpy()\n",
    "all_items_id=np.concatenate(category_ids_arrys, axis=None)\n",
    "category_ids = pd.DataFrame(all_items_id).value_counts().index.to_list()\n",
    "index_list = []\n",
    "for cell in category_ids:\n",
    "    index_list.append(cell[0])\n",
    "category_ctr_data = pd.DataFrame(0.0, index=np.arange(len(data)), columns=index_list)\n",
    "category_ctr_data.shape"
   ]
  },
  {
   "cell_type": "code",
   "execution_count": 3,
   "id": "6d884d09",
   "metadata": {},
   "outputs": [],
   "source": [
    "category_ids_arrys = data['user_iab_category_ids']\n",
    "category_clicks_arrys = data['user_iab_category_clicks']\n",
    "category_recs_arrys = data['user_iab_category_recs']\n",
    "\n",
    "for row_index in range(len(category_ids_arrys)):\n",
    "    id_vals = category_ids_arrys[row_index]\n",
    "    for i in range(len(id_vals)):\n",
    "        if float(category_recs_arrys[row_index][i]) == 0:\n",
    "            category_ctr_data.at[row_index, id_vals[i]] = 0\n",
    "        else:\n",
    "            category_ctr_data.at[row_index, id_vals[i]] = float(category_clicks_arrys[row_index][i])/float(category_recs_arrys[row_index][i]) \n",
    "category_ctr_data = category_ctr_data.add_suffix('_c_ctr')"
   ]
  },
  {
   "cell_type": "code",
   "execution_count": 4,
   "id": "db1403cc",
   "metadata": {},
   "outputs": [],
   "source": [
    "category_ctr_data.to_parquet('category_ctr_data.snappy.parquet', compression='snappy',engine='pyarrow')"
   ]
  },
  {
   "cell_type": "code",
   "execution_count": 9,
   "id": "bfcaa1d6",
   "metadata": {},
   "outputs": [
    {
     "name": "stderr",
     "output_type": "stream",
     "text": [
      "C:\\admin\\anaconda\\lib\\site-packages\\sklearn\\metrics\\cluster\\_supervised.py:58: UserWarning: Clustering metrics expects discrete values but received continuous values for label, and binary values for target\n",
      "  warnings.warn(msg, UserWarning)\n",
      "C:\\admin\\anaconda\\lib\\site-packages\\sklearn\\metrics\\cluster\\_supervised.py:58: UserWarning: Clustering metrics expects discrete values but received continuous values for label, and binary values for target\n",
      "  warnings.warn(msg, UserWarning)\n",
      "C:\\admin\\anaconda\\lib\\site-packages\\sklearn\\metrics\\cluster\\_supervised.py:58: UserWarning: Clustering metrics expects discrete values but received continuous values for label, and binary values for target\n",
      "  warnings.warn(msg, UserWarning)\n",
      "C:\\admin\\anaconda\\lib\\site-packages\\sklearn\\metrics\\cluster\\_supervised.py:58: UserWarning: Clustering metrics expects discrete values but received continuous values for label, and binary values for target\n",
      "  warnings.warn(msg, UserWarning)\n",
      "C:\\admin\\anaconda\\lib\\site-packages\\sklearn\\metrics\\cluster\\_supervised.py:58: UserWarning: Clustering metrics expects discrete values but received continuous values for label, and binary values for target\n",
      "  warnings.warn(msg, UserWarning)\n",
      "C:\\admin\\anaconda\\lib\\site-packages\\sklearn\\metrics\\cluster\\_supervised.py:58: UserWarning: Clustering metrics expects discrete values but received continuous values for label, and binary values for target\n",
      "  warnings.warn(msg, UserWarning)\n",
      "C:\\admin\\anaconda\\lib\\site-packages\\sklearn\\metrics\\cluster\\_supervised.py:58: UserWarning: Clustering metrics expects discrete values but received continuous values for label, and binary values for target\n",
      "  warnings.warn(msg, UserWarning)\n",
      "C:\\admin\\anaconda\\lib\\site-packages\\sklearn\\metrics\\cluster\\_supervised.py:58: UserWarning: Clustering metrics expects discrete values but received continuous values for label, and binary values for target\n",
      "  warnings.warn(msg, UserWarning)\n",
      "C:\\admin\\anaconda\\lib\\site-packages\\sklearn\\metrics\\cluster\\_supervised.py:58: UserWarning: Clustering metrics expects discrete values but received continuous values for label, and binary values for target\n",
      "  warnings.warn(msg, UserWarning)\n",
      "C:\\admin\\anaconda\\lib\\site-packages\\sklearn\\metrics\\cluster\\_supervised.py:58: UserWarning: Clustering metrics expects discrete values but received continuous values for label, and binary values for target\n",
      "  warnings.warn(msg, UserWarning)\n",
      "C:\\admin\\anaconda\\lib\\site-packages\\sklearn\\metrics\\cluster\\_supervised.py:58: UserWarning: Clustering metrics expects discrete values but received continuous values for label, and binary values for target\n",
      "  warnings.warn(msg, UserWarning)\n",
      "C:\\admin\\anaconda\\lib\\site-packages\\sklearn\\metrics\\cluster\\_supervised.py:58: UserWarning: Clustering metrics expects discrete values but received continuous values for label, and binary values for target\n",
      "  warnings.warn(msg, UserWarning)\n",
      "C:\\admin\\anaconda\\lib\\site-packages\\sklearn\\metrics\\cluster\\_supervised.py:58: UserWarning: Clustering metrics expects discrete values but received continuous values for label, and binary values for target\n",
      "  warnings.warn(msg, UserWarning)\n",
      "C:\\admin\\anaconda\\lib\\site-packages\\sklearn\\metrics\\cluster\\_supervised.py:58: UserWarning: Clustering metrics expects discrete values but received continuous values for label, and binary values for target\n",
      "  warnings.warn(msg, UserWarning)\n",
      "C:\\admin\\anaconda\\lib\\site-packages\\sklearn\\metrics\\cluster\\_supervised.py:58: UserWarning: Clustering metrics expects discrete values but received continuous values for label, and binary values for target\n",
      "  warnings.warn(msg, UserWarning)\n",
      "C:\\admin\\anaconda\\lib\\site-packages\\sklearn\\metrics\\cluster\\_supervised.py:58: UserWarning: Clustering metrics expects discrete values but received continuous values for label, and binary values for target\n",
      "  warnings.warn(msg, UserWarning)\n",
      "C:\\admin\\anaconda\\lib\\site-packages\\sklearn\\metrics\\cluster\\_supervised.py:58: UserWarning: Clustering metrics expects discrete values but received continuous values for label, and binary values for target\n",
      "  warnings.warn(msg, UserWarning)\n",
      "C:\\admin\\anaconda\\lib\\site-packages\\sklearn\\metrics\\cluster\\_supervised.py:58: UserWarning: Clustering metrics expects discrete values but received continuous values for label, and binary values for target\n",
      "  warnings.warn(msg, UserWarning)\n",
      "C:\\admin\\anaconda\\lib\\site-packages\\sklearn\\metrics\\cluster\\_supervised.py:58: UserWarning: Clustering metrics expects discrete values but received continuous values for label, and binary values for target\n",
      "  warnings.warn(msg, UserWarning)\n",
      "C:\\admin\\anaconda\\lib\\site-packages\\sklearn\\metrics\\cluster\\_supervised.py:58: UserWarning: Clustering metrics expects discrete values but received continuous values for label, and binary values for target\n",
      "  warnings.warn(msg, UserWarning)\n",
      "C:\\admin\\anaconda\\lib\\site-packages\\sklearn\\metrics\\cluster\\_supervised.py:58: UserWarning: Clustering metrics expects discrete values but received continuous values for label, and binary values for target\n",
      "  warnings.warn(msg, UserWarning)\n",
      "C:\\admin\\anaconda\\lib\\site-packages\\sklearn\\metrics\\cluster\\_supervised.py:58: UserWarning: Clustering metrics expects discrete values but received continuous values for label, and binary values for target\n",
      "  warnings.warn(msg, UserWarning)\n",
      "C:\\admin\\anaconda\\lib\\site-packages\\sklearn\\metrics\\cluster\\_supervised.py:58: UserWarning: Clustering metrics expects discrete values but received continuous values for label, and binary values for target\n",
      "  warnings.warn(msg, UserWarning)\n",
      "C:\\admin\\anaconda\\lib\\site-packages\\sklearn\\metrics\\cluster\\_supervised.py:58: UserWarning: Clustering metrics expects discrete values but received continuous values for label, and binary values for target\n",
      "  warnings.warn(msg, UserWarning)\n",
      "C:\\admin\\anaconda\\lib\\site-packages\\sklearn\\metrics\\cluster\\_supervised.py:58: UserWarning: Clustering metrics expects discrete values but received continuous values for label, and binary values for target\n",
      "  warnings.warn(msg, UserWarning)\n",
      "C:\\admin\\anaconda\\lib\\site-packages\\sklearn\\metrics\\cluster\\_supervised.py:58: UserWarning: Clustering metrics expects discrete values but received continuous values for label, and binary values for target\n",
      "  warnings.warn(msg, UserWarning)\n",
      "C:\\admin\\anaconda\\lib\\site-packages\\sklearn\\metrics\\cluster\\_supervised.py:58: UserWarning: Clustering metrics expects discrete values but received continuous values for label, and binary values for target\n",
      "  warnings.warn(msg, UserWarning)\n",
      "C:\\admin\\anaconda\\lib\\site-packages\\sklearn\\metrics\\cluster\\_supervised.py:58: UserWarning: Clustering metrics expects discrete values but received continuous values for label, and binary values for target\n",
      "  warnings.warn(msg, UserWarning)\n",
      "C:\\admin\\anaconda\\lib\\site-packages\\sklearn\\metrics\\cluster\\_supervised.py:58: UserWarning: Clustering metrics expects discrete values but received continuous values for label, and binary values for target\n",
      "  warnings.warn(msg, UserWarning)\n",
      "C:\\admin\\anaconda\\lib\\site-packages\\sklearn\\metrics\\cluster\\_supervised.py:58: UserWarning: Clustering metrics expects discrete values but received continuous values for label, and binary values for target\n",
      "  warnings.warn(msg, UserWarning)\n",
      "C:\\admin\\anaconda\\lib\\site-packages\\sklearn\\metrics\\cluster\\_supervised.py:58: UserWarning: Clustering metrics expects discrete values but received continuous values for label, and binary values for target\n",
      "  warnings.warn(msg, UserWarning)\n",
      "C:\\admin\\anaconda\\lib\\site-packages\\sklearn\\metrics\\cluster\\_supervised.py:58: UserWarning: Clustering metrics expects discrete values but received continuous values for label, and binary values for target\n",
      "  warnings.warn(msg, UserWarning)\n",
      "C:\\admin\\anaconda\\lib\\site-packages\\sklearn\\metrics\\cluster\\_supervised.py:58: UserWarning: Clustering metrics expects discrete values but received continuous values for label, and binary values for target\n",
      "  warnings.warn(msg, UserWarning)\n",
      "C:\\admin\\anaconda\\lib\\site-packages\\sklearn\\metrics\\cluster\\_supervised.py:58: UserWarning: Clustering metrics expects discrete values but received continuous values for label, and binary values for target\n",
      "  warnings.warn(msg, UserWarning)\n",
      "C:\\admin\\anaconda\\lib\\site-packages\\sklearn\\metrics\\cluster\\_supervised.py:58: UserWarning: Clustering metrics expects discrete values but received continuous values for label, and binary values for target\n",
      "  warnings.warn(msg, UserWarning)\n"
     ]
    },
    {
     "name": "stderr",
     "output_type": "stream",
     "text": [
      "C:\\admin\\anaconda\\lib\\site-packages\\sklearn\\metrics\\cluster\\_supervised.py:58: UserWarning: Clustering metrics expects discrete values but received continuous values for label, and binary values for target\n",
      "  warnings.warn(msg, UserWarning)\n",
      "C:\\admin\\anaconda\\lib\\site-packages\\sklearn\\metrics\\cluster\\_supervised.py:58: UserWarning: Clustering metrics expects discrete values but received continuous values for label, and binary values for target\n",
      "  warnings.warn(msg, UserWarning)\n",
      "C:\\admin\\anaconda\\lib\\site-packages\\sklearn\\metrics\\cluster\\_supervised.py:58: UserWarning: Clustering metrics expects discrete values but received continuous values for label, and binary values for target\n",
      "  warnings.warn(msg, UserWarning)\n",
      "C:\\admin\\anaconda\\lib\\site-packages\\sklearn\\metrics\\cluster\\_supervised.py:58: UserWarning: Clustering metrics expects discrete values but received continuous values for label, and binary values for target\n",
      "  warnings.warn(msg, UserWarning)\n",
      "C:\\admin\\anaconda\\lib\\site-packages\\sklearn\\metrics\\cluster\\_supervised.py:58: UserWarning: Clustering metrics expects discrete values but received continuous values for label, and binary values for target\n",
      "  warnings.warn(msg, UserWarning)\n",
      "C:\\admin\\anaconda\\lib\\site-packages\\sklearn\\metrics\\cluster\\_supervised.py:58: UserWarning: Clustering metrics expects discrete values but received continuous values for label, and binary values for target\n",
      "  warnings.warn(msg, UserWarning)\n",
      "C:\\admin\\anaconda\\lib\\site-packages\\sklearn\\metrics\\cluster\\_supervised.py:58: UserWarning: Clustering metrics expects discrete values but received continuous values for label, and binary values for target\n",
      "  warnings.warn(msg, UserWarning)\n",
      "C:\\admin\\anaconda\\lib\\site-packages\\sklearn\\metrics\\cluster\\_supervised.py:58: UserWarning: Clustering metrics expects discrete values but received continuous values for label, and binary values for target\n",
      "  warnings.warn(msg, UserWarning)\n",
      "C:\\admin\\anaconda\\lib\\site-packages\\sklearn\\metrics\\cluster\\_supervised.py:58: UserWarning: Clustering metrics expects discrete values but received continuous values for label, and binary values for target\n",
      "  warnings.warn(msg, UserWarning)\n",
      "C:\\admin\\anaconda\\lib\\site-packages\\sklearn\\metrics\\cluster\\_supervised.py:58: UserWarning: Clustering metrics expects discrete values but received continuous values for label, and binary values for target\n",
      "  warnings.warn(msg, UserWarning)\n",
      "C:\\admin\\anaconda\\lib\\site-packages\\sklearn\\metrics\\cluster\\_supervised.py:58: UserWarning: Clustering metrics expects discrete values but received continuous values for label, and binary values for target\n",
      "  warnings.warn(msg, UserWarning)\n",
      "C:\\admin\\anaconda\\lib\\site-packages\\sklearn\\metrics\\cluster\\_supervised.py:58: UserWarning: Clustering metrics expects discrete values but received continuous values for label, and binary values for target\n",
      "  warnings.warn(msg, UserWarning)\n",
      "C:\\admin\\anaconda\\lib\\site-packages\\sklearn\\metrics\\cluster\\_supervised.py:58: UserWarning: Clustering metrics expects discrete values but received continuous values for label, and binary values for target\n",
      "  warnings.warn(msg, UserWarning)\n",
      "C:\\admin\\anaconda\\lib\\site-packages\\sklearn\\metrics\\cluster\\_supervised.py:58: UserWarning: Clustering metrics expects discrete values but received continuous values for label, and binary values for target\n",
      "  warnings.warn(msg, UserWarning)\n",
      "C:\\admin\\anaconda\\lib\\site-packages\\sklearn\\metrics\\cluster\\_supervised.py:58: UserWarning: Clustering metrics expects discrete values but received continuous values for label, and binary values for target\n",
      "  warnings.warn(msg, UserWarning)\n",
      "C:\\admin\\anaconda\\lib\\site-packages\\sklearn\\metrics\\cluster\\_supervised.py:58: UserWarning: Clustering metrics expects discrete values but received continuous values for label, and binary values for target\n",
      "  warnings.warn(msg, UserWarning)\n",
      "C:\\admin\\anaconda\\lib\\site-packages\\sklearn\\metrics\\cluster\\_supervised.py:58: UserWarning: Clustering metrics expects discrete values but received continuous values for label, and binary values for target\n",
      "  warnings.warn(msg, UserWarning)\n",
      "C:\\admin\\anaconda\\lib\\site-packages\\sklearn\\metrics\\cluster\\_supervised.py:58: UserWarning: Clustering metrics expects discrete values but received continuous values for label, and binary values for target\n",
      "  warnings.warn(msg, UserWarning)\n",
      "C:\\admin\\anaconda\\lib\\site-packages\\sklearn\\metrics\\cluster\\_supervised.py:58: UserWarning: Clustering metrics expects discrete values but received continuous values for label, and binary values for target\n",
      "  warnings.warn(msg, UserWarning)\n",
      "C:\\admin\\anaconda\\lib\\site-packages\\sklearn\\metrics\\cluster\\_supervised.py:58: UserWarning: Clustering metrics expects discrete values but received continuous values for label, and binary values for target\n",
      "  warnings.warn(msg, UserWarning)\n",
      "C:\\admin\\anaconda\\lib\\site-packages\\sklearn\\metrics\\cluster\\_supervised.py:58: UserWarning: Clustering metrics expects discrete values but received continuous values for label, and binary values for target\n",
      "  warnings.warn(msg, UserWarning)\n",
      "C:\\admin\\anaconda\\lib\\site-packages\\sklearn\\metrics\\cluster\\_supervised.py:58: UserWarning: Clustering metrics expects discrete values but received continuous values for label, and binary values for target\n",
      "  warnings.warn(msg, UserWarning)\n",
      "C:\\admin\\anaconda\\lib\\site-packages\\sklearn\\metrics\\cluster\\_supervised.py:58: UserWarning: Clustering metrics expects discrete values but received continuous values for label, and binary values for target\n",
      "  warnings.warn(msg, UserWarning)\n",
      "C:\\admin\\anaconda\\lib\\site-packages\\sklearn\\metrics\\cluster\\_supervised.py:58: UserWarning: Clustering metrics expects discrete values but received continuous values for label, and binary values for target\n",
      "  warnings.warn(msg, UserWarning)\n",
      "C:\\admin\\anaconda\\lib\\site-packages\\sklearn\\metrics\\cluster\\_supervised.py:58: UserWarning: Clustering metrics expects discrete values but received continuous values for label, and binary values for target\n",
      "  warnings.warn(msg, UserWarning)\n",
      "C:\\admin\\anaconda\\lib\\site-packages\\sklearn\\metrics\\cluster\\_supervised.py:58: UserWarning: Clustering metrics expects discrete values but received continuous values for label, and binary values for target\n",
      "  warnings.warn(msg, UserWarning)\n",
      "C:\\admin\\anaconda\\lib\\site-packages\\sklearn\\metrics\\cluster\\_supervised.py:58: UserWarning: Clustering metrics expects discrete values but received continuous values for label, and binary values for target\n",
      "  warnings.warn(msg, UserWarning)\n",
      "C:\\admin\\anaconda\\lib\\site-packages\\sklearn\\metrics\\cluster\\_supervised.py:58: UserWarning: Clustering metrics expects discrete values but received continuous values for label, and binary values for target\n",
      "  warnings.warn(msg, UserWarning)\n",
      "C:\\admin\\anaconda\\lib\\site-packages\\sklearn\\metrics\\cluster\\_supervised.py:58: UserWarning: Clustering metrics expects discrete values but received continuous values for label, and binary values for target\n",
      "  warnings.warn(msg, UserWarning)\n",
      "C:\\admin\\anaconda\\lib\\site-packages\\sklearn\\metrics\\cluster\\_supervised.py:58: UserWarning: Clustering metrics expects discrete values but received continuous values for label, and binary values for target\n",
      "  warnings.warn(msg, UserWarning)\n",
      "C:\\admin\\anaconda\\lib\\site-packages\\sklearn\\metrics\\cluster\\_supervised.py:58: UserWarning: Clustering metrics expects discrete values but received continuous values for label, and binary values for target\n",
      "  warnings.warn(msg, UserWarning)\n",
      "C:\\admin\\anaconda\\lib\\site-packages\\sklearn\\metrics\\cluster\\_supervised.py:58: UserWarning: Clustering metrics expects discrete values but received continuous values for label, and binary values for target\n",
      "  warnings.warn(msg, UserWarning)\n",
      "C:\\admin\\anaconda\\lib\\site-packages\\sklearn\\metrics\\cluster\\_supervised.py:58: UserWarning: Clustering metrics expects discrete values but received continuous values for label, and binary values for target\n",
      "  warnings.warn(msg, UserWarning)\n",
      "C:\\admin\\anaconda\\lib\\site-packages\\sklearn\\metrics\\cluster\\_supervised.py:58: UserWarning: Clustering metrics expects discrete values but received continuous values for label, and binary values for target\n",
      "  warnings.warn(msg, UserWarning)\n",
      "C:\\admin\\anaconda\\lib\\site-packages\\sklearn\\metrics\\cluster\\_supervised.py:58: UserWarning: Clustering metrics expects discrete values but received continuous values for label, and binary values for target\n",
      "  warnings.warn(msg, UserWarning)\n"
     ]
    },
    {
     "name": "stderr",
     "output_type": "stream",
     "text": [
      "C:\\admin\\anaconda\\lib\\site-packages\\sklearn\\metrics\\cluster\\_supervised.py:58: UserWarning: Clustering metrics expects discrete values but received continuous values for label, and binary values for target\n",
      "  warnings.warn(msg, UserWarning)\n",
      "C:\\admin\\anaconda\\lib\\site-packages\\sklearn\\metrics\\cluster\\_supervised.py:58: UserWarning: Clustering metrics expects discrete values but received continuous values for label, and binary values for target\n",
      "  warnings.warn(msg, UserWarning)\n",
      "C:\\admin\\anaconda\\lib\\site-packages\\sklearn\\metrics\\cluster\\_supervised.py:58: UserWarning: Clustering metrics expects discrete values but received continuous values for label, and binary values for target\n",
      "  warnings.warn(msg, UserWarning)\n",
      "C:\\admin\\anaconda\\lib\\site-packages\\sklearn\\metrics\\cluster\\_supervised.py:58: UserWarning: Clustering metrics expects discrete values but received continuous values for label, and binary values for target\n",
      "  warnings.warn(msg, UserWarning)\n",
      "C:\\admin\\anaconda\\lib\\site-packages\\sklearn\\metrics\\cluster\\_supervised.py:58: UserWarning: Clustering metrics expects discrete values but received continuous values for label, and binary values for target\n",
      "  warnings.warn(msg, UserWarning)\n",
      "C:\\admin\\anaconda\\lib\\site-packages\\sklearn\\metrics\\cluster\\_supervised.py:58: UserWarning: Clustering metrics expects discrete values but received continuous values for label, and binary values for target\n",
      "  warnings.warn(msg, UserWarning)\n",
      "C:\\admin\\anaconda\\lib\\site-packages\\sklearn\\metrics\\cluster\\_supervised.py:58: UserWarning: Clustering metrics expects discrete values but received continuous values for label, and binary values for target\n",
      "  warnings.warn(msg, UserWarning)\n",
      "C:\\admin\\anaconda\\lib\\site-packages\\sklearn\\metrics\\cluster\\_supervised.py:58: UserWarning: Clustering metrics expects discrete values but received continuous values for label, and binary values for target\n",
      "  warnings.warn(msg, UserWarning)\n",
      "C:\\admin\\anaconda\\lib\\site-packages\\sklearn\\metrics\\cluster\\_supervised.py:58: UserWarning: Clustering metrics expects discrete values but received continuous values for label, and binary values for target\n",
      "  warnings.warn(msg, UserWarning)\n",
      "C:\\Users\\E56A~1\\AppData\\Local\\Temp/ipykernel_16400/7004489.py:6: RuntimeWarning: invalid value encountered in double_scalars\n",
      "  iab_category_entropy[c] = cEntropy(category_ctr_data[c].values, data['is_click'].values)/entropy(category_ctr_data[c].values)\n",
      "C:\\admin\\anaconda\\lib\\site-packages\\sklearn\\metrics\\cluster\\_supervised.py:58: UserWarning: Clustering metrics expects discrete values but received continuous values for label, and binary values for target\n",
      "  warnings.warn(msg, UserWarning)\n",
      "C:\\admin\\anaconda\\lib\\site-packages\\sklearn\\metrics\\cluster\\_supervised.py:58: UserWarning: Clustering metrics expects discrete values but received continuous values for label, and binary values for target\n",
      "  warnings.warn(msg, UserWarning)\n",
      "C:\\admin\\anaconda\\lib\\site-packages\\sklearn\\metrics\\cluster\\_supervised.py:58: UserWarning: Clustering metrics expects discrete values but received continuous values for label, and binary values for target\n",
      "  warnings.warn(msg, UserWarning)\n",
      "C:\\Users\\E56A~1\\AppData\\Local\\Temp/ipykernel_16400/7004489.py:6: RuntimeWarning: invalid value encountered in double_scalars\n",
      "  iab_category_entropy[c] = cEntropy(category_ctr_data[c].values, data['is_click'].values)/entropy(category_ctr_data[c].values)\n",
      "C:\\admin\\anaconda\\lib\\site-packages\\sklearn\\metrics\\cluster\\_supervised.py:58: UserWarning: Clustering metrics expects discrete values but received continuous values for label, and binary values for target\n",
      "  warnings.warn(msg, UserWarning)\n",
      "C:\\admin\\anaconda\\lib\\site-packages\\sklearn\\metrics\\cluster\\_supervised.py:58: UserWarning: Clustering metrics expects discrete values but received continuous values for label, and binary values for target\n",
      "  warnings.warn(msg, UserWarning)\n",
      "C:\\Users\\E56A~1\\AppData\\Local\\Temp/ipykernel_16400/7004489.py:6: RuntimeWarning: invalid value encountered in double_scalars\n",
      "  iab_category_entropy[c] = cEntropy(category_ctr_data[c].values, data['is_click'].values)/entropy(category_ctr_data[c].values)\n",
      "C:\\Users\\E56A~1\\AppData\\Local\\Temp/ipykernel_16400/7004489.py:6: RuntimeWarning: invalid value encountered in double_scalars\n",
      "  iab_category_entropy[c] = cEntropy(category_ctr_data[c].values, data['is_click'].values)/entropy(category_ctr_data[c].values)\n",
      "C:\\admin\\anaconda\\lib\\site-packages\\sklearn\\metrics\\cluster\\_supervised.py:58: UserWarning: Clustering metrics expects discrete values but received continuous values for label, and binary values for target\n",
      "  warnings.warn(msg, UserWarning)\n",
      "C:\\Users\\E56A~1\\AppData\\Local\\Temp/ipykernel_16400/7004489.py:6: RuntimeWarning: invalid value encountered in double_scalars\n",
      "  iab_category_entropy[c] = cEntropy(category_ctr_data[c].values, data['is_click'].values)/entropy(category_ctr_data[c].values)\n",
      "C:\\Users\\E56A~1\\AppData\\Local\\Temp/ipykernel_16400/7004489.py:6: RuntimeWarning: invalid value encountered in double_scalars\n",
      "  iab_category_entropy[c] = cEntropy(category_ctr_data[c].values, data['is_click'].values)/entropy(category_ctr_data[c].values)\n"
     ]
    }
   ],
   "source": [
    "from sklearn import metrics\n",
    "\n",
    "iab_category_entropy = {}\n",
    "iab_category_mutual_info={}\n",
    "for c in category_ctr_data.columns:\n",
    "    iab_category_entropy[c] = cEntropy(category_ctr_data[c].values, data['is_click'].values)/entropy(category_ctr_data[c].values)\n",
    "    iab_category_mutual_info[c] = metrics.mutual_info_score(category_ctr_data[c].values, data['is_click'].values)"
   ]
  },
  {
   "cell_type": "code",
   "execution_count": 10,
   "id": "e70bee72",
   "metadata": {},
   "outputs": [],
   "source": [
    "import pickle\n",
    "\n",
    "with open('ready data part 4/iab_category_entropy.pickle', 'wb') as handle:\n",
    "    pickle.dump(iab_category_entropy, handle, protocol=pickle.HIGHEST_PROTOCOL)\n",
    "    \n",
    "with open('ready data part 4/iab_category_mutual_info.pickle', 'wb') as handle:\n",
    "    pickle.dump(iab_category_mutual_info, handle, protocol=pickle.HIGHEST_PROTOCOL)"
   ]
  },
  {
   "cell_type": "code",
   "execution_count": 11,
   "id": "cbf41a65",
   "metadata": {},
   "outputs": [],
   "source": [
    "# remove the features with low mutual infarmaton and high conditional entropy\n",
    "remove_col_iab_category1 = {k:v for k,v in iab_category_mutual_info.items() if v<0.0001}\n",
    "remove_col_iab_category2 = {k:v for k,v in iab_category_entropy.items() if v>0.99}\n",
    "remove_col_iab_category =  np.unique(list(remove_col_iab_category1.keys()) + list(remove_col_iab_category2.keys()) )"
   ]
  },
  {
   "cell_type": "code",
   "execution_count": 14,
   "id": "c158562c",
   "metadata": {},
   "outputs": [],
   "source": [
    "category_ctr_data.drop(remove_col_iab_category, axis=1,inplace= True)"
   ]
  },
  {
   "cell_type": "code",
   "execution_count": 15,
   "id": "68a610ca",
   "metadata": {},
   "outputs": [],
   "source": [
    "category_ctr_data.to_parquet('ready data part 4/category_ctr.snappy.parquet',\n",
    "              compression='snappy',engine='pyarrow')"
   ]
  },
  {
   "cell_type": "markdown",
   "id": "63690239",
   "metadata": {},
   "source": [
    "## user item clicks\n",
    "#### there are many item so the conditional entropy and mutual information calculation is taking too long. first we will create a data frame with the items that appear frequently."
   ]
  },
  {
   "cell_type": "code",
   "execution_count": 1,
   "id": "c679c897",
   "metadata": {},
   "outputs": [],
   "source": [
    "import numpy as np\n",
    "import pandas as pd\n",
    "from sklearn import metrics\n",
    "\n",
    "data= pd.read_parquet('data_for_starship_2022.snappy.parquet', engine='pyarrow',columns=[ 'user_item_ids',\n",
    "       'user_item_clicks','is_click'] )"
   ]
  },
  {
   "cell_type": "code",
   "execution_count": 2,
   "id": "11946229",
   "metadata": {},
   "outputs": [],
   "source": [
    "item_ids = np.concatenate(data['user_item_ids'].to_numpy() , axis= None)\n",
    "unique, counts = np.unique(item_ids, return_counts=True)"
   ]
  },
  {
   "cell_type": "code",
   "execution_count": 3,
   "id": "a4093150",
   "metadata": {},
   "outputs": [],
   "source": [
    "sort_order = counts.argsort()\n",
    "sorted_counts = counts[sort_order]\n",
    "sorted_unique = unique[sort_order]"
   ]
  },
  {
   "cell_type": "code",
   "execution_count": 4,
   "id": "39ff7b46",
   "metadata": {},
   "outputs": [],
   "source": [
    "first = int(len(sorted_unique)- (len(sorted_unique)/2000))\n",
    "insertes_columns=sorted_unique[first:]"
   ]
  },
  {
   "cell_type": "code",
   "execution_count": 5,
   "id": "105af293",
   "metadata": {},
   "outputs": [],
   "source": [
    "items_clicks_data = pd.DataFrame(0.0, index=np.arange(len(data)), columns=insertes_columns)\n",
    "\n",
    "item_columms_set= set(insertes_columns)\n",
    "for row_index in range(len(data)):\n",
    "    val = data['user_item_ids'][row_index]\n",
    "    for i in range(len(val)):\n",
    "        if val[i] in item_columms_set:\n",
    "            items_clicks_data.at[row_index, val[i]] = float(data['user_item_clicks'][row_index][i])\n",
    "items_clicks_data = items_clicks_data.add_suffix('_i_clicks')"
   ]
  },
  {
   "cell_type": "code",
   "execution_count": 6,
   "id": "f0ef07c7",
   "metadata": {},
   "outputs": [],
   "source": [
    "items_clicks_data.to_parquet('ready data part 4/items_clicks_data.snappy.parquet',\n",
    "              compression='snappy',engine='pyarrow')"
   ]
  },
  {
   "cell_type": "markdown",
   "id": "b4a78894",
   "metadata": {},
   "source": [
    "#### now we can calculate the conditional entropy"
   ]
  },
  {
   "cell_type": "code",
   "execution_count": 11,
   "id": "014d062c",
   "metadata": {},
   "outputs": [],
   "source": [
    "#items_clicks_data= pd.read_parquet('items_clicks_data.snappy.parquet', engine='pyarrow')\n",
    "items_clicks_entropy = {}\n",
    "items_clicks_mutual_info={}\n",
    "for c in items_clicks_data.columns:\n",
    "    items_clicks_entropy[c] = cEntropy(items_clicks_data[c].values,\n",
    "                                       data['is_click'].values)/entropy(items_clicks_data[c].values)\n",
    "    items_clicks_mutual_info[c] = metrics.mutual_info_score(items_clicks_data[c].values,\n",
    "                                                            data['is_click'].values)"
   ]
  },
  {
   "cell_type": "code",
   "execution_count": 26,
   "id": "d10eda69",
   "metadata": {},
   "outputs": [],
   "source": [
    "import pickle\n",
    "\n",
    "with open('items_clicks_entropy.pickle', 'wb') as handle:\n",
    "    pickle.dump(items_clicks_entropy, handle, protocol=pickle.HIGHEST_PROTOCOL)\n",
    "    \n",
    "with open('items_clicks_mutual_info.pickle', 'wb') as handle:\n",
    "    pickle.dump(items_clicks_mutual_info, handle, protocol=pickle.HIGHEST_PROTOCOL)"
   ]
  },
  {
   "cell_type": "code",
   "execution_count": 24,
   "id": "6c8429e5",
   "metadata": {},
   "outputs": [
    {
     "data": {
      "text/plain": [
       "188"
      ]
     },
     "execution_count": 24,
     "metadata": {},
     "output_type": "execute_result"
    }
   ],
   "source": [
    "remove_col_item_clicks1 = {k:v for k,v in items_clicks_mutual_info.items() if v<0.0001}\n",
    "len(remove_col_item_clicks1)"
   ]
  },
  {
   "cell_type": "code",
   "execution_count": 17,
   "id": "fc5a3102",
   "metadata": {},
   "outputs": [
    {
     "data": {
      "text/plain": [
       "38"
      ]
     },
     "execution_count": 17,
     "metadata": {},
     "output_type": "execute_result"
    }
   ],
   "source": [
    "remove_col_item_clicks2 = {k:v for k,v in items_clicks_entropy.items() if v>0.99}\n",
    "len(remove_col_item_clicks2)"
   ]
  },
  {
   "cell_type": "code",
   "execution_count": 20,
   "id": "fe868a3b",
   "metadata": {},
   "outputs": [
    {
     "data": {
      "text/plain": [
       "188"
      ]
     },
     "execution_count": 20,
     "metadata": {},
     "output_type": "execute_result"
    }
   ],
   "source": [
    "# remove the features with low mutual infarmaton and high conditional entropy\n",
    "remove_col_item_clicks1 = {k:v for k,v in items_clicks_mutual_info.items() if v<0.0001}\n",
    "remove_col_item_clicks2 = {k:v for k,v in items_clicks_entropy.items() if v>0.99}\n",
    "remove_col_item_clicks =  np.unique(list(remove_col_item_clicks1.keys()) + list(remove_col_item_clicks2.keys()))\n",
    "len(remove_col_item_clicks)"
   ]
  },
  {
   "cell_type": "code",
   "execution_count": 27,
   "id": "72c9dcea",
   "metadata": {},
   "outputs": [],
   "source": [
    "items_clicks_data.drop(remove_col_item_clicks, axis=1,inplace= True)"
   ]
  },
  {
   "cell_type": "code",
   "execution_count": 28,
   "id": "af37817e",
   "metadata": {},
   "outputs": [],
   "source": [
    "items_clicks_data.to_parquet('ready data part 4/items_clicks.snappy.parquet',\n",
    "              compression='snappy',engine='pyarrow')"
   ]
  },
  {
   "cell_type": "code",
   "execution_count": 3,
   "id": "7a1fa7f3",
   "metadata": {},
   "outputs": [],
   "source": [
    "items_ids_arrys = data['user_item_ids'].to_numpy() \n",
    "all_items_id=np.unique(np.concatenate(items_ids_arrys, axis=None))\n",
    "user_item_c_entropy_vals={}\n",
    "user_item_mutual_info_vals={}"
   ]
  },
  {
   "cell_type": "code",
   "execution_count": null,
   "id": "e7e7c5bf",
   "metadata": {},
   "outputs": [],
   "source": [
    "for i in range (11135):\n",
    "    curr_cols = all_items_id[i:66*(i+1)]\n",
    "    items_clicks_data = pd.DataFrame(0.0, index=np.arange(len(data)), columns=curr_cols)\n",
    "    \n",
    "    item_columms_set= set(curr_cols)\n",
    "    for row_index in range(len(items_ids_arrys)):\n",
    "        val =  data['user_item_ids'][row_index]\n",
    "        for i in range(len(val)):\n",
    "            if val[i] in item_columms_set:\n",
    "                items_clicks_data.at[row_index, val[i]] = float( data['user_item_clicks'][row_index][i])   \n",
    "    #items_clicks_data = items_clicks_data.add_suffix('_item_clicks')\n",
    "    \n",
    "    for c in items_clicks_data.columns:\n",
    "        user_item_c_entropy_vals[c] = cEntropy(items_clicks_data[c].values, data['is_click'].values)\n",
    "        \n",
    "    for c in items_clicks_data.columns:\n",
    "        user_item_mutual_info_vals[c] = metrics.mutual_info_score(items_clicks_data[c].values, data['is_click'].values)"
   ]
  },
  {
   "cell_type": "code",
   "execution_count": null,
   "id": "14502833",
   "metadata": {},
   "outputs": [],
   "source": [
    "import pickle\n",
    "# save dictionary to pickle file\n",
    "with open('user_item_conditional_entropy.pickle', 'wb') as file:\n",
    "    pickle.dump(user_item_c_entropy_vals, file, protocol=pickle.HIGHEST_PROTOCOL)\n",
    "    \n",
    "with open('user_item_mutual_information.pickle', 'wb') as file:\n",
    "    pickle.dump(user_item_mutual_info_vals, file, protocol=pickle.HIGHEST_PROTOCOL)"
   ]
  },
  {
   "cell_type": "markdown",
   "id": "6f9f0f3f",
   "metadata": {},
   "source": [
    "## Syndicator "
   ]
  },
  {
   "cell_type": "code",
   "execution_count": null,
   "id": "bc24cfcc",
   "metadata": {},
   "outputs": [],
   "source": [
    "import numpy as np\n",
    "import pandas as pd \n",
    "\n",
    "data = pd.read_parquet('D:\\starship\\old data\\data_for_starship_2022.snappy.parquet', engine='pyarrow',columns=['user_syndicator_ids',\n",
    "       'user_syndicator_clicks', 'user_syndicator_recs','is_click'])\n",
    "data.head()\n",
    "syndicator_ids_arrys = data['user_syndicator_ids'].to_numpy()\n",
    "all_syndicator_ids=np.concatenate(syndicator_ids_arrys, axis=None)\n",
    "syndicator_ids =np.unique(all_syndicator_ids)\n",
    "len(syndicator_ids)"
   ]
  },
  {
   "cell_type": "code",
   "execution_count": null,
   "id": "033fcb7c",
   "metadata": {},
   "outputs": [],
   "source": [
    "import time\n",
    "import pickle\n",
    "\n",
    "clicks_dict = {}\n",
    "recks_dict = {}\n",
    "start = time.time()\n",
    "sindicator_dict={}\n",
    "for chunk in range(211):\n",
    "    place= chunk * 97\n",
    "    syndicator_clicks_data = pd.DataFrame(0.0, index=np.arange(2500000),columns = syndicator_ids[place : place + 97 ])\n",
    "    syndicator_recks_data = pd.DataFrame(0.0, index=np.arange(2500000),columns = syndicator_ids[place : place + 97 ])\n",
    "    sin_set = set(syndicator_ids[place : place + 97 ])\n",
    "\n",
    "    for syndicator in sin_set:\n",
    "        counter = 0\n",
    "        for i in range (250000):\n",
    "            index = np.where (syndicator_ids_arrys[i] == syndicator)\n",
    "            if index[0].size > 0:\n",
    "                syndicator_clicks_data[syndicator].iloc[i] = data['user_syndicator_clicks'].iloc[i][index[0][0]]\n",
    "                syndicator_recks_data[syndicator].iloc[i] = data['user_syndicator_recs'].iloc[i][index[0][0]]\n",
    "        clicks_dict[syndicator] =  cEntropy(syndicator_clicks_data[syndicator].values, data['is_click'].values) / entropy(syndicator_clicks_data[syndicator].values)\n",
    "        recks_dict[syndicator] =  cEntropy(syndicator_recks_data[syndicator].values, data['is_click'].values) / entropy(syndicator_recks_data[syndicator].values)\n",
    "\n",
    "    \n",
    "    print(chunk, time.time()-start)\n",
    "    start = time.time()\n",
    "name = 'clicks_normalize_entropy_dict.pkl'\n",
    "a_file = open(name, \"wb\")\n",
    "pickle.dump(clicks_dict, a_file)\n",
    "a_file.close()\n",
    "\n",
    "name = 'recks_normalize_entropy_dict.pkl'\n",
    "a_file = open(name, \"wb\")\n",
    "pickle.dump(recks_dict, a_file)\n",
    "a_file.close()"
   ]
  },
  {
   "cell_type": "code",
   "execution_count": null,
   "id": "d7584104",
   "metadata": {},
   "outputs": [],
   "source": [
    "import time\n",
    "import pickle\n",
    "from sklearn import metrics\n",
    "\n",
    "sindicator_clicks_mutual = {}\n",
    "sindicator_recks_mutual = {}\n",
    "start = time.time()\n",
    "sindicator_dict={}\n",
    "for chunk in range(211):\n",
    "    place= chunk * 97\n",
    "    syndicator_clicks_data = pd.DataFrame(0.0, index=np.arange(2500000),columns = syndicator_ids[place : place + 97 ])\n",
    "    syndicator_recks_data = pd.DataFrame(0.0, index=np.arange(2500000),columns = syndicator_ids[place : place + 97 ])\n",
    "    sin_set = set(syndicator_ids[place : place + 97 ])\n",
    "    counter = 0\n",
    "    for syndicator  in sin_set:\n",
    "        \n",
    "        for i in range (250000):\n",
    "            index = np.where (syndicator_ids_arrys[i] == syndicator)\n",
    "            if index[0].size > 0:\n",
    "                syndicator_clicks_data[syndicator].iloc[i] = data['user_syndicator_clicks'].iloc[i][index[0][0]]\n",
    "                syndicator_recks_data[syndicator].iloc[i] = data['user_syndicator_recs'].iloc[i][index[0][0]]\n",
    "        sindicator_clicks_mutual[syndicator] = metrics.mutual_info_score(syndicator_clicks_data[syndicator].values, data['is_click'].values)\n",
    "        sindicator_recks_mutual[syndicator] = metrics.mutual_info_score(syndicator_recks_data[syndicator].values, data['is_click'].values)\n",
    "        print(chunk,counter, time.time() - start)\n",
    "        counter = counter + 1\n",
    "    print(chunk, time.time()-start)\n",
    "    start = time.time()\n",
    "  \n",
    "name = 'clicks_mutual_dict.pkl'\n",
    "a_file = open(name, \"wb\")\n",
    "pickle.dump(sindicator_clicks_mutual, a_file)\n",
    "a_file.close()\n",
    "\n",
    "name = 'recks_mutual_dict.pkl'\n",
    "a_file = open(name, \"wb\")\n",
    "pickle.dump(sindicator_recks_mutual, a_file)\n",
    "a_file.close()"
   ]
  },
  {
   "cell_type": "markdown",
   "id": "4cfe02b1",
   "metadata": {},
   "source": [
    "## target_named_entities_ids\n",
    "#### Multi-hot encodinf to the feature target_named_entities_ids"
   ]
  },
  {
   "cell_type": "code",
   "execution_count": 29,
   "id": "17213833",
   "metadata": {},
   "outputs": [],
   "source": [
    "data= pd.read_parquet('data_for_starship_2022.snappy.parquet', engine='pyarrow',columns=[ 'target_named_entities_ids','is_click'] )\n",
    "user_item_ids=np.concatenate(data['target_named_entities_ids'].to_numpy(), axis=None)\n",
    "unique, counts = np.unique(user_item_ids, return_counts=True)"
   ]
  },
  {
   "cell_type": "code",
   "execution_count": 30,
   "id": "e1c27f98",
   "metadata": {},
   "outputs": [],
   "source": [
    "sort_order = counts.argsort()\n",
    "sorted_counts = counts[sort_order]\n",
    "sorted_unique = unique[sort_order]"
   ]
  },
  {
   "cell_type": "code",
   "execution_count": 33,
   "id": "5d696ca7",
   "metadata": {},
   "outputs": [],
   "source": [
    "first = int(len(sorted_unique)- (len(sorted_unique)/100))\n",
    "insertes_columns=sorted_unique[first:]"
   ]
  },
  {
   "cell_type": "code",
   "execution_count": 35,
   "id": "f802b055",
   "metadata": {},
   "outputs": [],
   "source": [
    "target_named_entities_ids_data = pd.DataFrame(0, index=np.arange(len(data)), columns=insertes_columns)\n",
    "\n",
    "columms_set= set(insertes_columns)\n",
    "for row_index in range(len(target_named_entities_ids_data)):\n",
    "    val =  data['target_named_entities_ids'][row_index]\n",
    "    for i in range(len(val)):\n",
    "        if val[i] in columms_set:\n",
    "            target_named_entities_ids_data.at[row_index, val[i]] = 1\n",
    "target_named_entities_ids_data = target_named_entities_ids_data.add_suffix('_entities_ids')"
   ]
  },
  {
   "cell_type": "code",
   "execution_count": 36,
   "id": "603c07be",
   "metadata": {},
   "outputs": [],
   "source": [
    "target_named_entities_ids_data.to_parquet('ready data part 4/target_named_entities_ids_most_common.snappy.parquet',\n",
    "              compression='snappy',engine='pyarrow')"
   ]
  },
  {
   "cell_type": "markdown",
   "id": "c84c582f",
   "metadata": {},
   "source": [
    "#### now we can calculate the conditional entropy"
   ]
  },
  {
   "cell_type": "code",
   "execution_count": 37,
   "id": "7a1b7b0b",
   "metadata": {},
   "outputs": [],
   "source": [
    "target_named_entities_entropy = {}\n",
    "target_named_entities_mutual_info={}\n",
    "for c in target_named_entities_ids_data.columns:\n",
    "    target_named_entities_entropy[c] = cEntropy(target_named_entities_ids_data[c].values, \n",
    "                                                data['is_click'].values)/entropy(target_named_entities_ids_data[c].values)\n",
    "    target_named_entities_mutual_info[c] = metrics.mutual_info_score(target_named_entities_ids_data[c].values, \n",
    "                                                                     data['is_click'].values)"
   ]
  },
  {
   "cell_type": "code",
   "execution_count": 41,
   "id": "ae236630",
   "metadata": {},
   "outputs": [],
   "source": [
    "import pickle\n",
    "\n",
    "with open('target_named_entities_entropy.pickle', 'wb') as handle:\n",
    "    pickle.dump(target_named_entities_entropy, handle, protocol=pickle.HIGHEST_PROTOCOL)\n",
    "    \n",
    "with open('target_named_entities_mutual_info.pickle', 'wb') as handle:\n",
    "    pickle.dump(target_named_entities_mutual_info, handle, protocol=pickle.HIGHEST_PROTOCOL)"
   ]
  },
  {
   "cell_type": "code",
   "execution_count": 45,
   "id": "871f2b66",
   "metadata": {},
   "outputs": [],
   "source": [
    "# remove the features with low mutual infarmaton and high conditional entropy\n",
    "remove_col_item_clicks1 = {k:v for k,v in target_named_entities_mutual_info.items() if v<0.0001}\n",
    "remove_col_item_clicks2 = {k:v for k,v in target_named_entities_entropy.items() if v>0.99}\n",
    "remove_col_item_clicks =  np.unique(list(remove_col_item_clicks1.keys()) + list(remove_col_item_clicks2.keys()) )"
   ]
  },
  {
   "cell_type": "code",
   "execution_count": 48,
   "id": "b5680298",
   "metadata": {},
   "outputs": [],
   "source": [
    "target_named_entities_ids_data.drop(remove_col_item_clicks, axis=1,inplace= True)"
   ]
  },
  {
   "cell_type": "code",
   "execution_count": 49,
   "id": "0ebe18ae",
   "metadata": {},
   "outputs": [],
   "source": [
    "target_named_entities_ids_data.to_parquet('ready data part 4/target_named_entities_ids.snappy.parquet',\n",
    "              compression='snappy',engine='pyarrow')"
   ]
  },
  {
   "cell_type": "markdown",
   "id": "8ffa2f86",
   "metadata": {},
   "source": [
    "## concat everything together"
   ]
  },
  {
   "cell_type": "code",
   "execution_count": 1,
   "id": "7b2424bb",
   "metadata": {},
   "outputs": [
    {
     "name": "stdout",
     "output_type": "stream",
     "text": [
      "['C:\\\\Users\\\\שחר\\\\STARSHIP\\\\ready data part 4\\\\category_ctr.snappy.parquet', 'C:\\\\Users\\\\שחר\\\\STARSHIP\\\\ready data part 4\\\\items_clicks.snappy.parquet', 'C:\\\\Users\\\\שחר\\\\STARSHIP\\\\ready data part 4\\\\non_array.snappy.parquet', 'C:\\\\Users\\\\שחר\\\\STARSHIP\\\\ready data part 4\\\\target_named_entities_ids.snappy.parquet']\n"
     ]
    }
   ],
   "source": [
    "import pandas as pd\n",
    "import numpy as np\n",
    "import glob\n",
    "import os\n",
    "\n",
    "path = r'C:\\Users\\שחר\\STARSHIP\\ready data part 4'\n",
    "all_files = glob.glob(path + \"/*.parquet\")\n",
    "print(all_files)\n",
    "df = pd.concat(map(pd.read_parquet, all_files), axis=1)"
   ]
  },
  {
   "cell_type": "code",
   "execution_count": 4,
   "id": "ea2ab255",
   "metadata": {},
   "outputs": [],
   "source": [
    "df.to_parquet('ready data part 4/data.snappy.parquet',\n",
    "              compression='snappy',engine='pyarrow')"
   ]
  },
  {
   "cell_type": "markdown",
   "id": "a88bbd6f",
   "metadata": {},
   "source": [
    "## cat boost 100-3 over the new data set"
   ]
  },
  {
   "cell_type": "code",
   "execution_count": 5,
   "id": "59539cf4",
   "metadata": {},
   "outputs": [],
   "source": [
    "from sklearn.model_selection import train_test_split\n",
    "\n",
    "y = df['is_click']\n",
    "del df['is_click']\n",
    "\n",
    "X_train, X_test, y_train, y_test = train_test_split( df, y, test_size=0.2, random_state=42)"
   ]
  },
  {
   "cell_type": "code",
   "execution_count": 6,
   "id": "f56fc376",
   "metadata": {},
   "outputs": [],
   "source": [
    "X_train.to_csv('ready data part 4/X_train_data.csv',index=False)\n",
    "X_test.to_csv('ready data part 4/X_test_data.csv',index=False)\n",
    "y_train.to_csv('ready data part 4/y_train_data.csv',index=False)\n",
    "y_test.to_csv('ready data part 4/y_test_data.csv',index=False)"
   ]
  },
  {
   "cell_type": "code",
   "execution_count": 7,
   "id": "a116f9f9",
   "metadata": {},
   "outputs": [],
   "source": [
    "def evaluate(test_set):\n",
    "    y_pred = cat_model.predict(test_set)\n",
    "    print(\"Accuracy:\",metrics.accuracy_score(y_test, y_pred))\n",
    "    print(\"Recall:\",metrics.recall_score(y_test, y_pred))\n",
    "    print(\"F-Measure:\",metrics.f1_score(y_test, y_pred))\n",
    "    print(\"Precision:\",metrics.precision_score(y_test, y_pred))"
   ]
  },
  {
   "cell_type": "code",
   "execution_count": 8,
   "id": "004e5889",
   "metadata": {},
   "outputs": [
    {
     "name": "stdout",
     "output_type": "stream",
     "text": [
      "Accuracy: 0.78457\n",
      "Recall: 0.8408310467112758\n",
      "F-Measure: 0.7955734627917702\n",
      "Precision: 0.7549390030867644\n"
     ]
    }
   ],
   "source": [
    "from sklearn import metrics\n",
    "from catboost import CatBoostClassifier\n",
    "\n",
    "cat_model = CatBoostClassifier()\n",
    "cat_model.fit(X_train  , y_train.values.ravel(),verbose=False)\n",
    "evaluate(X_test)"
   ]
  }
 ],
 "metadata": {
  "kernelspec": {
   "display_name": "Python 3 (ipykernel)",
   "language": "python",
   "name": "python3"
  },
  "language_info": {
   "codemirror_mode": {
    "name": "ipython",
    "version": 3
   },
   "file_extension": ".py",
   "mimetype": "text/x-python",
   "name": "python",
   "nbconvert_exporter": "python",
   "pygments_lexer": "ipython3",
   "version": "3.9.7"
  }
 },
 "nbformat": 4,
 "nbformat_minor": 5
}
